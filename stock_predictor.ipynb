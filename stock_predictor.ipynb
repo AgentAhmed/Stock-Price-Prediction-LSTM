{
 "cells": [
  {
   "cell_type": "code",
   "execution_count": 113,
   "metadata": {},
   "outputs": [],
   "source": [
    "import numpy as np\n",
    "import pandas as pd\n",
    "import matplotlib.pyplot as plt\n",
    "%matplotlib inline\n",
    "import yfinance as yf\n",
    "from datetime import datetime\n",
    "from sklearn.preprocessing import MinMaxScaler\n",
    "from tensorflow.keras.models import Sequential\n",
    "from tensorflow.keras.layers import LSTM, Dense, Dropout\n"
   ]
  },
  {
   "cell_type": "code",
   "execution_count": 114,
   "metadata": {},
   "outputs": [
    {
     "name": "stderr",
     "output_type": "stream",
     "text": [
      "[*********************100%***********************]  1 of 1 completed\n"
     ]
    }
   ],
   "source": [
    "stock_ticker = 'NVDA'   # we are fetching NVIDIA Corporation (NVDA)\n",
    "data = yf.download(stock_ticker, start=\"2005-01-01\", end=\"2024-11-18\")"
   ]
  },
  {
   "cell_type": "code",
   "execution_count": 115,
   "metadata": {},
   "outputs": [
    {
     "data": {
      "text/html": [
       "<div>\n",
       "<style scoped>\n",
       "    .dataframe tbody tr th:only-of-type {\n",
       "        vertical-align: middle;\n",
       "    }\n",
       "\n",
       "    .dataframe tbody tr th {\n",
       "        vertical-align: top;\n",
       "    }\n",
       "\n",
       "    .dataframe thead tr th {\n",
       "        text-align: left;\n",
       "    }\n",
       "\n",
       "    .dataframe thead tr:last-of-type th {\n",
       "        text-align: right;\n",
       "    }\n",
       "</style>\n",
       "<table border=\"1\" class=\"dataframe\">\n",
       "  <thead>\n",
       "    <tr>\n",
       "      <th>Price</th>\n",
       "      <th>Adj Close</th>\n",
       "      <th>Close</th>\n",
       "      <th>High</th>\n",
       "      <th>Low</th>\n",
       "      <th>Open</th>\n",
       "      <th>Volume</th>\n",
       "    </tr>\n",
       "    <tr>\n",
       "      <th>Ticker</th>\n",
       "      <th>NVDA</th>\n",
       "      <th>NVDA</th>\n",
       "      <th>NVDA</th>\n",
       "      <th>NVDA</th>\n",
       "      <th>NVDA</th>\n",
       "      <th>NVDA</th>\n",
       "    </tr>\n",
       "    <tr>\n",
       "      <th>Date</th>\n",
       "      <th></th>\n",
       "      <th></th>\n",
       "      <th></th>\n",
       "      <th></th>\n",
       "      <th></th>\n",
       "      <th></th>\n",
       "    </tr>\n",
       "  </thead>\n",
       "  <tbody>\n",
       "    <tr>\n",
       "      <th>2005-01-03 00:00:00+00:00</th>\n",
       "      <td>0.180220</td>\n",
       "      <td>0.196500</td>\n",
       "      <td>0.206000</td>\n",
       "      <td>0.195667</td>\n",
       "      <td>0.203167</td>\n",
       "      <td>1066716000</td>\n",
       "    </tr>\n",
       "    <tr>\n",
       "      <th>2005-01-04 00:00:00+00:00</th>\n",
       "      <td>0.171736</td>\n",
       "      <td>0.187250</td>\n",
       "      <td>0.198250</td>\n",
       "      <td>0.184250</td>\n",
       "      <td>0.197917</td>\n",
       "      <td>790224000</td>\n",
       "    </tr>\n",
       "    <tr>\n",
       "      <th>2005-01-05 00:00:00+00:00</th>\n",
       "      <td>0.173341</td>\n",
       "      <td>0.189000</td>\n",
       "      <td>0.191250</td>\n",
       "      <td>0.184250</td>\n",
       "      <td>0.185250</td>\n",
       "      <td>724812000</td>\n",
       "    </tr>\n",
       "    <tr>\n",
       "      <th>2005-01-06 00:00:00+00:00</th>\n",
       "      <td>0.171660</td>\n",
       "      <td>0.187167</td>\n",
       "      <td>0.194583</td>\n",
       "      <td>0.185833</td>\n",
       "      <td>0.192333</td>\n",
       "      <td>563568000</td>\n",
       "    </tr>\n",
       "    <tr>\n",
       "      <th>2005-01-07 00:00:00+00:00</th>\n",
       "      <td>0.168373</td>\n",
       "      <td>0.183583</td>\n",
       "      <td>0.189000</td>\n",
       "      <td>0.180833</td>\n",
       "      <td>0.187583</td>\n",
       "      <td>763092000</td>\n",
       "    </tr>\n",
       "  </tbody>\n",
       "</table>\n",
       "</div>"
      ],
      "text/plain": [
       "Price                     Adj Close     Close      High       Low      Open  \\\n",
       "Ticker                         NVDA      NVDA      NVDA      NVDA      NVDA   \n",
       "Date                                                                          \n",
       "2005-01-03 00:00:00+00:00  0.180220  0.196500  0.206000  0.195667  0.203167   \n",
       "2005-01-04 00:00:00+00:00  0.171736  0.187250  0.198250  0.184250  0.197917   \n",
       "2005-01-05 00:00:00+00:00  0.173341  0.189000  0.191250  0.184250  0.185250   \n",
       "2005-01-06 00:00:00+00:00  0.171660  0.187167  0.194583  0.185833  0.192333   \n",
       "2005-01-07 00:00:00+00:00  0.168373  0.183583  0.189000  0.180833  0.187583   \n",
       "\n",
       "Price                          Volume  \n",
       "Ticker                           NVDA  \n",
       "Date                                   \n",
       "2005-01-03 00:00:00+00:00  1066716000  \n",
       "2005-01-04 00:00:00+00:00   790224000  \n",
       "2005-01-05 00:00:00+00:00   724812000  \n",
       "2005-01-06 00:00:00+00:00   563568000  \n",
       "2005-01-07 00:00:00+00:00   763092000  "
      ]
     },
     "execution_count": 115,
     "metadata": {},
     "output_type": "execute_result"
    }
   ],
   "source": [
    "data.head()"
   ]
  },
  {
   "cell_type": "code",
   "execution_count": 116,
   "metadata": {},
   "outputs": [],
   "source": [
    "data.to_csv('NVDA.csv')"
   ]
  },
  {
   "cell_type": "code",
   "execution_count": 117,
   "metadata": {},
   "outputs": [
    {
     "data": {
      "text/html": [
       "<div>\n",
       "<style scoped>\n",
       "    .dataframe tbody tr th:only-of-type {\n",
       "        vertical-align: middle;\n",
       "    }\n",
       "\n",
       "    .dataframe tbody tr th {\n",
       "        vertical-align: top;\n",
       "    }\n",
       "\n",
       "    .dataframe thead th {\n",
       "        text-align: right;\n",
       "    }\n",
       "</style>\n",
       "<table border=\"1\" class=\"dataframe\">\n",
       "  <thead>\n",
       "    <tr style=\"text-align: right;\">\n",
       "      <th></th>\n",
       "      <th>Price</th>\n",
       "      <th>Adj Close</th>\n",
       "      <th>Close</th>\n",
       "      <th>High</th>\n",
       "      <th>Low</th>\n",
       "      <th>Open</th>\n",
       "      <th>Volume</th>\n",
       "    </tr>\n",
       "  </thead>\n",
       "  <tbody>\n",
       "    <tr>\n",
       "      <th>0</th>\n",
       "      <td>Ticker</td>\n",
       "      <td>NVDA</td>\n",
       "      <td>NVDA</td>\n",
       "      <td>NVDA</td>\n",
       "      <td>NVDA</td>\n",
       "      <td>NVDA</td>\n",
       "      <td>NVDA</td>\n",
       "    </tr>\n",
       "    <tr>\n",
       "      <th>1</th>\n",
       "      <td>Date</td>\n",
       "      <td>NaN</td>\n",
       "      <td>NaN</td>\n",
       "      <td>NaN</td>\n",
       "      <td>NaN</td>\n",
       "      <td>NaN</td>\n",
       "      <td>NaN</td>\n",
       "    </tr>\n",
       "    <tr>\n",
       "      <th>2</th>\n",
       "      <td>2005-01-03 00:00:00+00:00</td>\n",
       "      <td>0.18021968007087708</td>\n",
       "      <td>0.1965000033378601</td>\n",
       "      <td>0.20600000023841858</td>\n",
       "      <td>0.19566699862480164</td>\n",
       "      <td>0.20316700637340546</td>\n",
       "      <td>1066716000</td>\n",
       "    </tr>\n",
       "    <tr>\n",
       "      <th>3</th>\n",
       "      <td>2005-01-04 00:00:00+00:00</td>\n",
       "      <td>0.17173606157302856</td>\n",
       "      <td>0.18725000321865082</td>\n",
       "      <td>0.19824999570846558</td>\n",
       "      <td>0.18424999713897705</td>\n",
       "      <td>0.19791699945926666</td>\n",
       "      <td>790224000</td>\n",
       "    </tr>\n",
       "    <tr>\n",
       "      <th>4</th>\n",
       "      <td>2005-01-05 00:00:00+00:00</td>\n",
       "      <td>0.17334100604057312</td>\n",
       "      <td>0.1889999955892563</td>\n",
       "      <td>0.1912499964237213</td>\n",
       "      <td>0.18424999713897705</td>\n",
       "      <td>0.18524999916553497</td>\n",
       "      <td>724812000</td>\n",
       "    </tr>\n",
       "  </tbody>\n",
       "</table>\n",
       "</div>"
      ],
      "text/plain": [
       "                       Price            Adj Close                Close  \\\n",
       "0                     Ticker                 NVDA                 NVDA   \n",
       "1                       Date                  NaN                  NaN   \n",
       "2  2005-01-03 00:00:00+00:00  0.18021968007087708   0.1965000033378601   \n",
       "3  2005-01-04 00:00:00+00:00  0.17173606157302856  0.18725000321865082   \n",
       "4  2005-01-05 00:00:00+00:00  0.17334100604057312   0.1889999955892563   \n",
       "\n",
       "                  High                  Low                 Open      Volume  \n",
       "0                 NVDA                 NVDA                 NVDA        NVDA  \n",
       "1                  NaN                  NaN                  NaN         NaN  \n",
       "2  0.20600000023841858  0.19566699862480164  0.20316700637340546  1066716000  \n",
       "3  0.19824999570846558  0.18424999713897705  0.19791699945926666   790224000  \n",
       "4   0.1912499964237213  0.18424999713897705  0.18524999916553497   724812000  "
      ]
     },
     "execution_count": 117,
     "metadata": {},
     "output_type": "execute_result"
    }
   ],
   "source": [
    "data1 = pd.read_csv('NVDA.csv')\n",
    "data1.head()"
   ]
  },
  {
   "cell_type": "code",
   "execution_count": 118,
   "metadata": {},
   "outputs": [],
   "source": [
    "# skip the first two rows\n",
    "df = pd.read_csv('NVDA.csv', skiprows=[1, 2])  # Skip 'Ticker' and 'Date' rows"
   ]
  },
  {
   "cell_type": "code",
   "execution_count": 119,
   "metadata": {},
   "outputs": [],
   "source": [
    "df.rename(columns={'Price': 'Date'}, inplace=True)"
   ]
  },
  {
   "cell_type": "code",
   "execution_count": 120,
   "metadata": {},
   "outputs": [],
   "source": [
    "# Convert 'Date' column to datetime and set it as the index\n",
    "df['Date'] = pd.to_datetime(df['Date']).dt.date\n",
    "df.set_index('Date', inplace=True)"
   ]
  },
  {
   "cell_type": "code",
   "execution_count": 121,
   "metadata": {},
   "outputs": [
    {
     "data": {
      "text/html": [
       "<div>\n",
       "<style scoped>\n",
       "    .dataframe tbody tr th:only-of-type {\n",
       "        vertical-align: middle;\n",
       "    }\n",
       "\n",
       "    .dataframe tbody tr th {\n",
       "        vertical-align: top;\n",
       "    }\n",
       "\n",
       "    .dataframe thead th {\n",
       "        text-align: right;\n",
       "    }\n",
       "</style>\n",
       "<table border=\"1\" class=\"dataframe\">\n",
       "  <thead>\n",
       "    <tr style=\"text-align: right;\">\n",
       "      <th></th>\n",
       "      <th>Adj Close</th>\n",
       "      <th>Close</th>\n",
       "      <th>High</th>\n",
       "      <th>Low</th>\n",
       "      <th>Open</th>\n",
       "      <th>Volume</th>\n",
       "    </tr>\n",
       "    <tr>\n",
       "      <th>Date</th>\n",
       "      <th></th>\n",
       "      <th></th>\n",
       "      <th></th>\n",
       "      <th></th>\n",
       "      <th></th>\n",
       "      <th></th>\n",
       "    </tr>\n",
       "  </thead>\n",
       "  <tbody>\n",
       "    <tr>\n",
       "      <th>2005-01-03</th>\n",
       "      <td>0.180220</td>\n",
       "      <td>0.196500</td>\n",
       "      <td>0.206000</td>\n",
       "      <td>0.195667</td>\n",
       "      <td>0.203167</td>\n",
       "      <td>1066716000</td>\n",
       "    </tr>\n",
       "    <tr>\n",
       "      <th>2005-01-04</th>\n",
       "      <td>0.171736</td>\n",
       "      <td>0.187250</td>\n",
       "      <td>0.198250</td>\n",
       "      <td>0.184250</td>\n",
       "      <td>0.197917</td>\n",
       "      <td>790224000</td>\n",
       "    </tr>\n",
       "    <tr>\n",
       "      <th>2005-01-05</th>\n",
       "      <td>0.173341</td>\n",
       "      <td>0.189000</td>\n",
       "      <td>0.191250</td>\n",
       "      <td>0.184250</td>\n",
       "      <td>0.185250</td>\n",
       "      <td>724812000</td>\n",
       "    </tr>\n",
       "    <tr>\n",
       "      <th>2005-01-06</th>\n",
       "      <td>0.171660</td>\n",
       "      <td>0.187167</td>\n",
       "      <td>0.194583</td>\n",
       "      <td>0.185833</td>\n",
       "      <td>0.192333</td>\n",
       "      <td>563568000</td>\n",
       "    </tr>\n",
       "    <tr>\n",
       "      <th>2005-01-07</th>\n",
       "      <td>0.168373</td>\n",
       "      <td>0.183583</td>\n",
       "      <td>0.189000</td>\n",
       "      <td>0.180833</td>\n",
       "      <td>0.187583</td>\n",
       "      <td>763092000</td>\n",
       "    </tr>\n",
       "  </tbody>\n",
       "</table>\n",
       "</div>"
      ],
      "text/plain": [
       "            Adj Close     Close      High       Low      Open      Volume\n",
       "Date                                                                     \n",
       "2005-01-03   0.180220  0.196500  0.206000  0.195667  0.203167  1066716000\n",
       "2005-01-04   0.171736  0.187250  0.198250  0.184250  0.197917   790224000\n",
       "2005-01-05   0.173341  0.189000  0.191250  0.184250  0.185250   724812000\n",
       "2005-01-06   0.171660  0.187167  0.194583  0.185833  0.192333   563568000\n",
       "2005-01-07   0.168373  0.183583  0.189000  0.180833  0.187583   763092000"
      ]
     },
     "execution_count": 121,
     "metadata": {},
     "output_type": "execute_result"
    }
   ],
   "source": [
    "df.head()"
   ]
  },
  {
   "cell_type": "code",
   "execution_count": 122,
   "metadata": {},
   "outputs": [
    {
     "data": {
      "text/html": [
       "<div>\n",
       "<style scoped>\n",
       "    .dataframe tbody tr th:only-of-type {\n",
       "        vertical-align: middle;\n",
       "    }\n",
       "\n",
       "    .dataframe tbody tr th {\n",
       "        vertical-align: top;\n",
       "    }\n",
       "\n",
       "    .dataframe thead th {\n",
       "        text-align: right;\n",
       "    }\n",
       "</style>\n",
       "<table border=\"1\" class=\"dataframe\">\n",
       "  <thead>\n",
       "    <tr style=\"text-align: right;\">\n",
       "      <th></th>\n",
       "      <th>Adj Close</th>\n",
       "      <th>Close</th>\n",
       "      <th>High</th>\n",
       "      <th>Low</th>\n",
       "      <th>Open</th>\n",
       "      <th>Volume</th>\n",
       "    </tr>\n",
       "    <tr>\n",
       "      <th>Date</th>\n",
       "      <th></th>\n",
       "      <th></th>\n",
       "      <th></th>\n",
       "      <th></th>\n",
       "      <th></th>\n",
       "      <th></th>\n",
       "    </tr>\n",
       "  </thead>\n",
       "  <tbody>\n",
       "    <tr>\n",
       "      <th>2024-11-11</th>\n",
       "      <td>145.259995</td>\n",
       "      <td>145.259995</td>\n",
       "      <td>148.850006</td>\n",
       "      <td>143.570007</td>\n",
       "      <td>148.679993</td>\n",
       "      <td>182325600</td>\n",
       "    </tr>\n",
       "    <tr>\n",
       "      <th>2024-11-12</th>\n",
       "      <td>148.289993</td>\n",
       "      <td>148.289993</td>\n",
       "      <td>149.649994</td>\n",
       "      <td>146.009995</td>\n",
       "      <td>146.779999</td>\n",
       "      <td>198634700</td>\n",
       "    </tr>\n",
       "    <tr>\n",
       "      <th>2024-11-13</th>\n",
       "      <td>146.270004</td>\n",
       "      <td>146.270004</td>\n",
       "      <td>149.330002</td>\n",
       "      <td>145.899994</td>\n",
       "      <td>149.070007</td>\n",
       "      <td>191903300</td>\n",
       "    </tr>\n",
       "    <tr>\n",
       "      <th>2024-11-14</th>\n",
       "      <td>146.759995</td>\n",
       "      <td>146.759995</td>\n",
       "      <td>149.000000</td>\n",
       "      <td>145.550003</td>\n",
       "      <td>147.639999</td>\n",
       "      <td>194463300</td>\n",
       "    </tr>\n",
       "    <tr>\n",
       "      <th>2024-11-15</th>\n",
       "      <td>141.979996</td>\n",
       "      <td>141.979996</td>\n",
       "      <td>145.240005</td>\n",
       "      <td>140.080002</td>\n",
       "      <td>144.869995</td>\n",
       "      <td>249120000</td>\n",
       "    </tr>\n",
       "  </tbody>\n",
       "</table>\n",
       "</div>"
      ],
      "text/plain": [
       "             Adj Close       Close        High         Low        Open  \\\n",
       "Date                                                                     \n",
       "2024-11-11  145.259995  145.259995  148.850006  143.570007  148.679993   \n",
       "2024-11-12  148.289993  148.289993  149.649994  146.009995  146.779999   \n",
       "2024-11-13  146.270004  146.270004  149.330002  145.899994  149.070007   \n",
       "2024-11-14  146.759995  146.759995  149.000000  145.550003  147.639999   \n",
       "2024-11-15  141.979996  141.979996  145.240005  140.080002  144.869995   \n",
       "\n",
       "               Volume  \n",
       "Date                   \n",
       "2024-11-11  182325600  \n",
       "2024-11-12  198634700  \n",
       "2024-11-13  191903300  \n",
       "2024-11-14  194463300  \n",
       "2024-11-15  249120000  "
      ]
     },
     "execution_count": 122,
     "metadata": {},
     "output_type": "execute_result"
    }
   ],
   "source": [
    "df.tail()"
   ]
  },
  {
   "cell_type": "code",
   "execution_count": 123,
   "metadata": {},
   "outputs": [
    {
     "data": {
      "text/plain": [
       "(5003, 6)"
      ]
     },
     "execution_count": 123,
     "metadata": {},
     "output_type": "execute_result"
    }
   ],
   "source": [
    "df.shape"
   ]
  },
  {
   "cell_type": "code",
   "execution_count": 124,
   "metadata": {},
   "outputs": [
    {
     "data": {
      "text/html": [
       "<div>\n",
       "<style scoped>\n",
       "    .dataframe tbody tr th:only-of-type {\n",
       "        vertical-align: middle;\n",
       "    }\n",
       "\n",
       "    .dataframe tbody tr th {\n",
       "        vertical-align: top;\n",
       "    }\n",
       "\n",
       "    .dataframe thead th {\n",
       "        text-align: right;\n",
       "    }\n",
       "</style>\n",
       "<table border=\"1\" class=\"dataframe\">\n",
       "  <thead>\n",
       "    <tr style=\"text-align: right;\">\n",
       "      <th></th>\n",
       "      <th>Adj Close</th>\n",
       "      <th>Close</th>\n",
       "      <th>High</th>\n",
       "      <th>Low</th>\n",
       "      <th>Open</th>\n",
       "      <th>Volume</th>\n",
       "    </tr>\n",
       "  </thead>\n",
       "  <tbody>\n",
       "    <tr>\n",
       "      <th>count</th>\n",
       "      <td>5003.000000</td>\n",
       "      <td>5003.000000</td>\n",
       "      <td>5003.000000</td>\n",
       "      <td>5003.000000</td>\n",
       "      <td>5003.000000</td>\n",
       "      <td>5.003000e+03</td>\n",
       "    </tr>\n",
       "    <tr>\n",
       "      <th>mean</th>\n",
       "      <td>9.812039</td>\n",
       "      <td>9.841862</td>\n",
       "      <td>10.020860</td>\n",
       "      <td>9.645839</td>\n",
       "      <td>9.840888</td>\n",
       "      <td>5.454985e+08</td>\n",
       "    </tr>\n",
       "    <tr>\n",
       "      <th>std</th>\n",
       "      <td>23.056424</td>\n",
       "      <td>23.051922</td>\n",
       "      <td>23.482163</td>\n",
       "      <td>22.587637</td>\n",
       "      <td>23.066169</td>\n",
       "      <td>3.219924e+08</td>\n",
       "    </tr>\n",
       "    <tr>\n",
       "      <th>min</th>\n",
       "      <td>0.135279</td>\n",
       "      <td>0.147500</td>\n",
       "      <td>0.159500</td>\n",
       "      <td>0.143750</td>\n",
       "      <td>0.150000</td>\n",
       "      <td>4.564400e+07</td>\n",
       "    </tr>\n",
       "    <tr>\n",
       "      <th>25%</th>\n",
       "      <td>0.339116</td>\n",
       "      <td>0.367750</td>\n",
       "      <td>0.373250</td>\n",
       "      <td>0.362750</td>\n",
       "      <td>0.368000</td>\n",
       "      <td>3.379760e+08</td>\n",
       "    </tr>\n",
       "    <tr>\n",
       "      <th>50%</th>\n",
       "      <td>0.562670</td>\n",
       "      <td>0.606000</td>\n",
       "      <td>0.617667</td>\n",
       "      <td>0.593333</td>\n",
       "      <td>0.605000</td>\n",
       "      <td>4.779880e+08</td>\n",
       "    </tr>\n",
       "    <tr>\n",
       "      <th>75%</th>\n",
       "      <td>6.294187</td>\n",
       "      <td>6.337625</td>\n",
       "      <td>6.444625</td>\n",
       "      <td>6.248000</td>\n",
       "      <td>6.326125</td>\n",
       "      <td>6.648860e+08</td>\n",
       "    </tr>\n",
       "    <tr>\n",
       "      <th>max</th>\n",
       "      <td>148.880005</td>\n",
       "      <td>148.880005</td>\n",
       "      <td>149.770004</td>\n",
       "      <td>146.259995</td>\n",
       "      <td>149.070007</td>\n",
       "      <td>3.692928e+09</td>\n",
       "    </tr>\n",
       "  </tbody>\n",
       "</table>\n",
       "</div>"
      ],
      "text/plain": [
       "         Adj Close        Close         High          Low         Open  \\\n",
       "count  5003.000000  5003.000000  5003.000000  5003.000000  5003.000000   \n",
       "mean      9.812039     9.841862    10.020860     9.645839     9.840888   \n",
       "std      23.056424    23.051922    23.482163    22.587637    23.066169   \n",
       "min       0.135279     0.147500     0.159500     0.143750     0.150000   \n",
       "25%       0.339116     0.367750     0.373250     0.362750     0.368000   \n",
       "50%       0.562670     0.606000     0.617667     0.593333     0.605000   \n",
       "75%       6.294187     6.337625     6.444625     6.248000     6.326125   \n",
       "max     148.880005   148.880005   149.770004   146.259995   149.070007   \n",
       "\n",
       "             Volume  \n",
       "count  5.003000e+03  \n",
       "mean   5.454985e+08  \n",
       "std    3.219924e+08  \n",
       "min    4.564400e+07  \n",
       "25%    3.379760e+08  \n",
       "50%    4.779880e+08  \n",
       "75%    6.648860e+08  \n",
       "max    3.692928e+09  "
      ]
     },
     "execution_count": 124,
     "metadata": {},
     "output_type": "execute_result"
    }
   ],
   "source": [
    "df.describe()"
   ]
  },
  {
   "cell_type": "code",
   "execution_count": 125,
   "metadata": {},
   "outputs": [
    {
     "name": "stdout",
     "output_type": "stream",
     "text": [
      "<class 'pandas.core.frame.DataFrame'>\n",
      "Index: 5003 entries, 2005-01-03 to 2024-11-15\n",
      "Data columns (total 6 columns):\n",
      " #   Column     Non-Null Count  Dtype  \n",
      "---  ------     --------------  -----  \n",
      " 0   Adj Close  5003 non-null   float64\n",
      " 1   Close      5003 non-null   float64\n",
      " 2   High       5003 non-null   float64\n",
      " 3   Low        5003 non-null   float64\n",
      " 4   Open       5003 non-null   float64\n",
      " 5   Volume     5003 non-null   int64  \n",
      "dtypes: float64(5), int64(1)\n",
      "memory usage: 273.6+ KB\n"
     ]
    }
   ],
   "source": [
    "df.info()"
   ]
  },
  {
   "cell_type": "code",
   "execution_count": 126,
   "metadata": {},
   "outputs": [
    {
     "data": {
      "text/plain": [
       "Adj Close    0\n",
       "Close        0\n",
       "High         0\n",
       "Low          0\n",
       "Open         0\n",
       "Volume       0\n",
       "dtype: int64"
      ]
     },
     "execution_count": 126,
     "metadata": {},
     "output_type": "execute_result"
    }
   ],
   "source": [
    "df.isna().sum()"
   ]
  },
  {
   "cell_type": "code",
   "execution_count": 127,
   "metadata": {},
   "outputs": [
    {
     "data": {
      "text/plain": [
       "Text(0.5, 1.0, 'Closing price of NVDA')"
      ]
     },
     "execution_count": 127,
     "metadata": {},
     "output_type": "execute_result"
    },
    {
     "data": {
      "image/png": "[encoded data removed]",
      "text/plain": [
       "<Figure size 1500x500 with 1 Axes>"
      ]
     },
     "metadata": {},
     "output_type": "display_data"
    }
   ],
   "source": [
    "plt.figure(figsize = (15,5))\n",
    "df['Close'].plot()\n",
    "plt.xlabel(\"years\")\n",
    "plt.ylabel(\"Close\")\n",
    "plt.title(\"Closing price of NVDA\")"
   ]
  },
  {
   "cell_type": "code",
   "execution_count": 128,
   "metadata": {},
   "outputs": [],
   "source": [
    "def plot_graph(figsize, values, column_name):\n",
    "    plt.figure()\n",
    "    values.plot(figsize = figsize)\n",
    "    plt.xlabel(\"years\")\n",
    "    plt.ylabel(column_name)\n",
    "    plt.title(f\"{column_name} of Nvidia data\")"
   ]
  },
  {
   "cell_type": "code",
   "execution_count": 129,
   "metadata": {},
   "outputs": [
    {
     "data": {
      "text/plain": [
       "Index(['Adj Close', 'Close', 'High', 'Low', 'Open', 'Volume'], dtype='object')"
      ]
     },
     "execution_count": 129,
     "metadata": {},
     "output_type": "execute_result"
    }
   ],
   "source": [
    "df.columns"
   ]
  },
  {
   "cell_type": "code",
   "execution_count": 130,
   "metadata": {},
   "outputs": [
    {
     "data": {
      "image/png": "[encoded data removed]",
      "text/plain": [
       "<Figure size 1500x500 with 1 Axes>"
      ]
     },
     "metadata": {},
     "output_type": "display_data"
    },
    {
     "data": {
      "image/png": "[encoded data removed]",
      "text/plain": [
       "<Figure size 1500x500 with 1 Axes>"
      ]
     },
     "metadata": {},
     "output_type": "display_data"
    },
    {
     "data": {
      "image/png": "[encoded data removed]",
      "text/plain": [
       "<Figure size 1500x500 with 1 Axes>"
      ]
     },
     "metadata": {},
     "output_type": "display_data"
    },
    {
     "data": {
      "image/png": "[encoded data removed]",
      "text/plain": [
       "<Figure size 1500x500 with 1 Axes>"
      ]
     },
     "metadata": {},
     "output_type": "display_data"
    },
    {
     "data": {
      "image/png": "[encoded data removed]",
      "text/plain": [
       "<Figure size 1500x500 with 1 Axes>"
      ]
     },
     "metadata": {},
     "output_type": "display_data"
    },
    {
     "data": {
      "image/png": "[encoded data removed]",
      "text/plain": [
       "<Figure size 1500x500 with 1 Axes>"
      ]
     },
     "metadata": {},
     "output_type": "display_data"
    }
   ],
   "source": [
    "for column in df.columns:\n",
    "    plot_graph((15,5),df[column], column)"
   ]
  },
  {
   "cell_type": "code",
   "execution_count": 131,
   "metadata": {},
   "outputs": [],
   "source": [
    "df1=df.reset_index()['Close']"
   ]
  },
  {
   "cell_type": "code",
   "execution_count": 132,
   "metadata": {},
   "outputs": [
    {
     "data": {
      "text/plain": [
       "0         0.196500\n",
       "1         0.187250\n",
       "2         0.189000\n",
       "3         0.187167\n",
       "4         0.183583\n",
       "           ...    \n",
       "4998    145.259995\n",
       "4999    148.289993\n",
       "5000    146.270004\n",
       "5001    146.759995\n",
       "5002    141.979996\n",
       "Name: Close, Length: 5003, dtype: float64"
      ]
     },
     "execution_count": 132,
     "metadata": {},
     "output_type": "execute_result"
    }
   ],
   "source": [
    "df1"
   ]
  },
  {
   "cell_type": "code",
   "execution_count": 133,
   "metadata": {},
   "outputs": [
    {
     "data": {
      "text/plain": [
       "[<matplotlib.lines.Line2D at 0x1917a9a0e50>]"
      ]
     },
     "execution_count": 133,
     "metadata": {},
     "output_type": "execute_result"
    },
    {
     "data": {
      "image/png": "[encoded data removed]",
      "text/plain": [
       "<Figure size 640x480 with 1 Axes>"
      ]
     },
     "metadata": {},
     "output_type": "display_data"
    }
   ],
   "source": [
    "plt.plot(df1)"
   ]
  },
  {
   "cell_type": "code",
   "execution_count": 134,
   "metadata": {},
   "outputs": [],
   "source": [
    "scaler=MinMaxScaler(feature_range=(0,1))\n",
    "df1=scaler.fit_transform(np.array(df1).reshape(-1,1))"
   ]
  },
  {
   "cell_type": "code",
   "execution_count": 135,
   "metadata": {},
   "outputs": [
    {
     "name": "stdout",
     "output_type": "stream",
     "text": [
      "[[3.29450579e-04]\n",
      " [2.67258390e-04]\n",
      " [2.79024428e-04]\n",
      " ...\n",
      " [9.82451713e-01]\n",
      " [9.85746153e-01]\n",
      " [9.53607927e-01]]\n"
     ]
    }
   ],
   "source": [
    "print(df1)"
   ]
  },
  {
   "cell_type": "code",
   "execution_count": 136,
   "metadata": {},
   "outputs": [],
   "source": [
    "#splitting dataset into train and test split\n",
    "training_size=int(len(df1)*0.65)\n",
    "test_size=len(df1)-training_size\n",
    "train_data,test_data=df1[0:training_size,:],df1[training_size:len(df1),:1]"
   ]
  },
  {
   "cell_type": "code",
   "execution_count": 137,
   "metadata": {},
   "outputs": [
    {
     "data": {
      "text/plain": [
       "(3251, 1752)"
      ]
     },
     "execution_count": 137,
     "metadata": {},
     "output_type": "execute_result"
    }
   ],
   "source": [
    "training_size,test_size"
   ]
  },
  {
   "cell_type": "code",
   "execution_count": 138,
   "metadata": {},
   "outputs": [
    {
     "data": {
      "text/plain": [
       "array([[0.00032945],\n",
       "       [0.00026726],\n",
       "       [0.00027902],\n",
       "       ...,\n",
       "       [0.03500244],\n",
       "       [0.0344259 ],\n",
       "       [0.03202393]])"
      ]
     },
     "execution_count": 138,
     "metadata": {},
     "output_type": "execute_result"
    }
   ],
   "source": [
    "train_data"
   ]
  },
  {
   "cell_type": "code",
   "execution_count": 142,
   "metadata": {},
   "outputs": [],
   "source": [
    "# convert an array of values into a dataset matrix\n",
    "def create_dataset(dataset, time_step=1):\n",
    "\tdataX, dataY = [], []\n",
    "\tfor i in range(len(dataset)-time_step-1):\n",
    "\t\ta = dataset[i:(i+time_step), 0]   ###i=0, 0,1,2,3-----99   100 \n",
    "\t\tdataX.append(a)\n",
    "\t\tdataY.append(dataset[i + time_step, 0])\n",
    "\treturn np.array(dataX), np.array(dataY)\n",
    "\n"
   ]
  },
  {
   "cell_type": "code",
   "execution_count": 143,
   "metadata": {},
   "outputs": [],
   "source": [
    "# reshape into X=t,t+1,t+2,t+3 and Y=t+4\n",
    "time_step = 100\n",
    "X_train, y_train = create_dataset(train_data, time_step)\n",
    "X_test, ytest = create_dataset(test_data, time_step)"
   ]
  },
  {
   "cell_type": "code",
   "execution_count": 144,
   "metadata": {},
   "outputs": [
    {
     "name": "stdout",
     "output_type": "stream",
     "text": [
      "(3150, 100)\n",
      "(3150,)\n"
     ]
    },
    {
     "data": {
      "text/plain": [
       "(None, None)"
      ]
     },
     "execution_count": 144,
     "metadata": {},
     "output_type": "execute_result"
    }
   ],
   "source": [
    "print(X_train.shape), print(y_train.shape)"
   ]
  },
  {
   "cell_type": "code",
   "execution_count": 145,
   "metadata": {},
   "outputs": [
    {
     "name": "stdout",
     "output_type": "stream",
     "text": [
      "(1651, 100)\n",
      "(1651,)\n"
     ]
    },
    {
     "data": {
      "text/plain": [
       "(None, None)"
      ]
     },
     "execution_count": 145,
     "metadata": {},
     "output_type": "execute_result"
    }
   ],
   "source": [
    "print(X_test.shape), print(ytest.shape)"
   ]
  },
  {
   "cell_type": "code",
   "execution_count": 146,
   "metadata": {},
   "outputs": [],
   "source": [
    "# reshape input to be [samples, time steps, features] which is required for LSTM\n",
    "X_train =X_train.reshape(X_train.shape[0],X_train.shape[1] , 1)\n",
    "X_test = X_test.reshape(X_test.shape[0],X_test.shape[1] , 1)"
   ]
  },
  {
   "cell_type": "code",
   "execution_count": 147,
   "metadata": {},
   "outputs": [
    {
     "name": "stderr",
     "output_type": "stream",
     "text": [
      "c:\\Users\\User\\miniconda3\\envs\\stock_env\\Lib\\site-packages\\keras\\src\\layers\\rnn\\rnn.py:204: UserWarning: Do not pass an `input_shape`/`input_dim` argument to a layer. When using Sequential models, prefer using an `Input(shape)` object as the first layer in the model instead.\n",
      "  super().__init__(**kwargs)\n"
     ]
    }
   ],
   "source": [
    "model=Sequential()\n",
    "model.add(LSTM(50,return_sequences=True,input_shape=(100,1)))\n",
    "model.add(LSTM(50,return_sequences=True))\n",
    "model.add(LSTM(50))\n",
    "model.add(Dense(1))\n",
    "model.compile(loss='mean_squared_error',optimizer='adam')"
   ]
  },
  {
   "cell_type": "code",
   "execution_count": 148,
   "metadata": {},
   "outputs": [
    {
     "data": {
      "text/html": [
       "<pre style=\"white-space:pre;overflow-x:auto;line-height:normal;font-family:Menlo,'DejaVu Sans Mono',consolas,'Courier New',monospace\"><span style=\"font-weight: bold\">Model: \"sequential\"</span>\n",
       "</pre>\n"
      ],
      "text/plain": [
       "\u001b[1mModel: \"sequential\"\u001b[0m\n"
      ]
     },
     "metadata": {},
     "output_type": "display_data"
    },
    {
     "data": {
      "text/html": [
       "<pre style=\"white-space:pre;overflow-x:auto;line-height:normal;font-family:Menlo,'DejaVu Sans Mono',consolas,'Courier New',monospace\">┏━━━━━━━━━━━━━━━━━━━━━━━━━━━━━━━━━┳━━━━━━━━━━━━━━━━━━━━━━━━┳━━━━━━━━━━━━━━━┓\n",
       "┃<span style=\"font-weight: bold\"> Layer (type)                    </span>┃<span style=\"font-weight: bold\"> Output Shape           </span>┃<span style=\"font-weight: bold\">       Param # </span>┃\n",
       "┡━━━━━━━━━━━━━━━━━━━━━━━━━━━━━━━━━╇━━━━━━━━━━━━━━━━━━━━━━━━╇━━━━━━━━━━━━━━━┩\n",
       "│ lstm (<span style=\"color: #0087ff; text-decoration-color: #0087ff\">LSTM</span>)                     │ (<span style=\"color: #00d7ff; text-decoration-color: #00d7ff\">None</span>, <span style=\"color: #00af00; text-decoration-color: #00af00\">100</span>, <span style=\"color: #00af00; text-decoration-color: #00af00\">50</span>)        │        <span style=\"color: #00af00; text-decoration-color: #00af00\">10,400</span> │\n",
       "├─────────────────────────────────┼────────────────────────┼───────────────┤\n",
       "│ lstm_1 (<span style=\"color: #0087ff; text-decoration-color: #0087ff\">LSTM</span>)                   │ (<span style=\"color: #00d7ff; text-decoration-color: #00d7ff\">None</span>, <span style=\"color: #00af00; text-decoration-color: #00af00\">100</span>, <span style=\"color: #00af00; text-decoration-color: #00af00\">50</span>)        │        <span style=\"color: #00af00; text-decoration-color: #00af00\">20,200</span> │\n",
       "├─────────────────────────────────┼────────────────────────┼───────────────┤\n",
       "│ lstm_2 (<span style=\"color: #0087ff; text-decoration-color: #0087ff\">LSTM</span>)                   │ (<span style=\"color: #00d7ff; text-decoration-color: #00d7ff\">None</span>, <span style=\"color: #00af00; text-decoration-color: #00af00\">50</span>)             │        <span style=\"color: #00af00; text-decoration-color: #00af00\">20,200</span> │\n",
       "├─────────────────────────────────┼────────────────────────┼───────────────┤\n",
       "│ dense (<span style=\"color: #0087ff; text-decoration-color: #0087ff\">Dense</span>)                   │ (<span style=\"color: #00d7ff; text-decoration-color: #00d7ff\">None</span>, <span style=\"color: #00af00; text-decoration-color: #00af00\">1</span>)              │            <span style=\"color: #00af00; text-decoration-color: #00af00\">51</span> │\n",
       "└─────────────────────────────────┴────────────────────────┴───────────────┘\n",
       "</pre>\n"
      ],
      "text/plain": [
       "┏━━━━━━━━━━━━━━━━━━━━━━━━━━━━━━━━━┳━━━━━━━━━━━━━━━━━━━━━━━━┳━━━━━━━━━━━━━━━┓\n",
       "┃\u001b[1m \u001b[0m\u001b[1mLayer (type)                   \u001b[0m\u001b[1m \u001b[0m┃\u001b[1m \u001b[0m\u001b[1mOutput Shape          \u001b[0m\u001b[1m \u001b[0m┃\u001b[1m \u001b[0m\u001b[1m      Param #\u001b[0m\u001b[1m \u001b[0m┃\n",
       "┡━━━━━━━━━━━━━━━━━━━━━━━━━━━━━━━━━╇━━━━━━━━━━━━━━━━━━━━━━━━╇━━━━━━━━━━━━━━━┩\n",
       "│ lstm (\u001b[38;5;33mLSTM\u001b[0m)                     │ (\u001b[38;5;45mNone\u001b[0m, \u001b[38;5;34m100\u001b[0m, \u001b[38;5;34m50\u001b[0m)        │        \u001b[38;5;34m10,400\u001b[0m │\n",
       "├─────────────────────────────────┼────────────────────────┼───────────────┤\n",
       "│ lstm_1 (\u001b[38;5;33mLSTM\u001b[0m)                   │ (\u001b[38;5;45mNone\u001b[0m, \u001b[38;5;34m100\u001b[0m, \u001b[38;5;34m50\u001b[0m)        │        \u001b[38;5;34m20,200\u001b[0m │\n",
       "├─────────────────────────────────┼────────────────────────┼───────────────┤\n",
       "│ lstm_2 (\u001b[38;5;33mLSTM\u001b[0m)                   │ (\u001b[38;5;45mNone\u001b[0m, \u001b[38;5;34m50\u001b[0m)             │        \u001b[38;5;34m20,200\u001b[0m │\n",
       "├─────────────────────────────────┼────────────────────────┼───────────────┤\n",
       "│ dense (\u001b[38;5;33mDense\u001b[0m)                   │ (\u001b[38;5;45mNone\u001b[0m, \u001b[38;5;34m1\u001b[0m)              │            \u001b[38;5;34m51\u001b[0m │\n",
       "└─────────────────────────────────┴────────────────────────┴───────────────┘\n"
      ]
     },
     "metadata": {},
     "output_type": "display_data"
    },
    {
     "data": {
      "text/html": [
       "<pre style=\"white-space:pre;overflow-x:auto;line-height:normal;font-family:Menlo,'DejaVu Sans Mono',consolas,'Courier New',monospace\"><span style=\"font-weight: bold\"> Total params: </span><span style=\"color: #00af00; text-decoration-color: #00af00\">50,851</span> (198.64 KB)\n",
       "</pre>\n"
      ],
      "text/plain": [
       "\u001b[1m Total params: \u001b[0m\u001b[38;5;34m50,851\u001b[0m (198.64 KB)\n"
      ]
     },
     "metadata": {},
     "output_type": "display_data"
    },
    {
     "data": {
      "text/html": [
       "<pre style=\"white-space:pre;overflow-x:auto;line-height:normal;font-family:Menlo,'DejaVu Sans Mono',consolas,'Courier New',monospace\"><span style=\"font-weight: bold\"> Trainable params: </span><span style=\"color: #00af00; text-decoration-color: #00af00\">50,851</span> (198.64 KB)\n",
       "</pre>\n"
      ],
      "text/plain": [
       "\u001b[1m Trainable params: \u001b[0m\u001b[38;5;34m50,851\u001b[0m (198.64 KB)\n"
      ]
     },
     "metadata": {},
     "output_type": "display_data"
    },
    {
     "data": {
      "text/html": [
       "<pre style=\"white-space:pre;overflow-x:auto;line-height:normal;font-family:Menlo,'DejaVu Sans Mono',consolas,'Courier New',monospace\"><span style=\"font-weight: bold\"> Non-trainable params: </span><span style=\"color: #00af00; text-decoration-color: #00af00\">0</span> (0.00 B)\n",
       "</pre>\n"
      ],
      "text/plain": [
       "\u001b[1m Non-trainable params: \u001b[0m\u001b[38;5;34m0\u001b[0m (0.00 B)\n"
      ]
     },
     "metadata": {},
     "output_type": "display_data"
    }
   ],
   "source": [
    "model.summary()"
   ]
  },
  {
   "cell_type": "code",
   "execution_count": 149,
   "metadata": {},
   "outputs": [
    {
     "name": "stdout",
     "output_type": "stream",
     "text": [
      "Epoch 1/100\n",
      "\u001b[1m50/50\u001b[0m \u001b[32m━━━━━━━━━━━━━━━━━━━━\u001b[0m\u001b[37m\u001b[0m \u001b[1m13s\u001b[0m 171ms/step - loss: 7.3277e-05 - val_loss: 0.0033\n",
      "Epoch 2/100\n",
      "\u001b[1m50/50\u001b[0m \u001b[32m━━━━━━━━━━━━━━━━━━━━\u001b[0m\u001b[37m\u001b[0m \u001b[1m9s\u001b[0m 149ms/step - loss: 1.2132e-06 - val_loss: 0.0045\n",
      "Epoch 3/100\n",
      "\u001b[1m50/50\u001b[0m \u001b[32m━━━━━━━━━━━━━━━━━━━━\u001b[0m\u001b[37m\u001b[0m \u001b[1m8s\u001b[0m 154ms/step - loss: 4.5362e-07 - val_loss: 0.0042\n",
      "Epoch 4/100\n",
      "\u001b[1m50/50\u001b[0m \u001b[32m━━━━━━━━━━━━━━━━━━━━\u001b[0m\u001b[37m\u001b[0m \u001b[1m15s\u001b[0m 254ms/step - loss: 3.9165e-07 - val_loss: 0.0040\n",
      "Epoch 5/100\n",
      "\u001b[1m50/50\u001b[0m \u001b[32m━━━━━━━━━━━━━━━━━━━━\u001b[0m\u001b[37m\u001b[0m \u001b[1m7s\u001b[0m 141ms/step - loss: 3.7260e-07 - val_loss: 0.0039\n",
      "Epoch 6/100\n",
      "\u001b[1m50/50\u001b[0m \u001b[32m━━━━━━━━━━━━━━━━━━━━\u001b[0m\u001b[37m\u001b[0m \u001b[1m10s\u001b[0m 138ms/step - loss: 5.0236e-07 - val_loss: 0.0041\n",
      "Epoch 7/100\n",
      "\u001b[1m50/50\u001b[0m \u001b[32m━━━━━━━━━━━━━━━━━━━━\u001b[0m\u001b[37m\u001b[0m \u001b[1m7s\u001b[0m 143ms/step - loss: 3.7938e-07 - val_loss: 0.0038\n",
      "Epoch 8/100\n",
      "\u001b[1m50/50\u001b[0m \u001b[32m━━━━━━━━━━━━━━━━━━━━\u001b[0m\u001b[37m\u001b[0m \u001b[1m10s\u001b[0m 140ms/step - loss: 2.9738e-07 - val_loss: 0.0040\n",
      "Epoch 9/100\n",
      "\u001b[1m50/50\u001b[0m \u001b[32m━━━━━━━━━━━━━━━━━━━━\u001b[0m\u001b[37m\u001b[0m \u001b[1m7s\u001b[0m 139ms/step - loss: 4.2631e-07 - val_loss: 0.0034\n",
      "Epoch 10/100\n",
      "\u001b[1m50/50\u001b[0m \u001b[32m━━━━━━━━━━━━━━━━━━━━\u001b[0m\u001b[37m\u001b[0m \u001b[1m7s\u001b[0m 134ms/step - loss: 6.9124e-07 - val_loss: 0.0041\n",
      "Epoch 11/100\n",
      "\u001b[1m50/50\u001b[0m \u001b[32m━━━━━━━━━━━━━━━━━━━━\u001b[0m\u001b[37m\u001b[0m \u001b[1m10s\u001b[0m 137ms/step - loss: 5.3323e-07 - val_loss: 0.0035\n",
      "Epoch 12/100\n",
      "\u001b[1m50/50\u001b[0m \u001b[32m━━━━━━━━━━━━━━━━━━━━\u001b[0m\u001b[37m\u001b[0m \u001b[1m7s\u001b[0m 131ms/step - loss: 3.7077e-07 - val_loss: 0.0031\n",
      "Epoch 13/100\n",
      "\u001b[1m50/50\u001b[0m \u001b[32m━━━━━━━━━━━━━━━━━━━━\u001b[0m\u001b[37m\u001b[0m \u001b[1m7s\u001b[0m 133ms/step - loss: 5.2337e-07 - val_loss: 0.0033\n",
      "Epoch 14/100\n",
      "\u001b[1m50/50\u001b[0m \u001b[32m━━━━━━━━━━━━━━━━━━━━\u001b[0m\u001b[37m\u001b[0m \u001b[1m7s\u001b[0m 140ms/step - loss: 3.4775e-07 - val_loss: 0.0036\n",
      "Epoch 15/100\n",
      "\u001b[1m50/50\u001b[0m \u001b[32m━━━━━━━━━━━━━━━━━━━━\u001b[0m\u001b[37m\u001b[0m \u001b[1m7s\u001b[0m 131ms/step - loss: 6.4020e-07 - val_loss: 0.0038\n",
      "Epoch 16/100\n",
      "\u001b[1m50/50\u001b[0m \u001b[32m━━━━━━━━━━━━━━━━━━━━\u001b[0m\u001b[37m\u001b[0m \u001b[1m7s\u001b[0m 136ms/step - loss: 4.6975e-07 - val_loss: 0.0029\n",
      "Epoch 17/100\n",
      "\u001b[1m50/50\u001b[0m \u001b[32m━━━━━━━━━━━━━━━━━━━━\u001b[0m\u001b[37m\u001b[0m \u001b[1m10s\u001b[0m 136ms/step - loss: 3.3854e-07 - val_loss: 0.0035\n",
      "Epoch 18/100\n",
      "\u001b[1m50/50\u001b[0m \u001b[32m━━━━━━━━━━━━━━━━━━━━\u001b[0m\u001b[37m\u001b[0m \u001b[1m7s\u001b[0m 131ms/step - loss: 3.2452e-07 - val_loss: 0.0031\n",
      "Epoch 19/100\n",
      "\u001b[1m50/50\u001b[0m \u001b[32m━━━━━━━━━━━━━━━━━━━━\u001b[0m\u001b[37m\u001b[0m \u001b[1m11s\u001b[0m 141ms/step - loss: 4.0056e-07 - val_loss: 0.0031\n",
      "Epoch 20/100\n",
      "\u001b[1m50/50\u001b[0m \u001b[32m━━━━━━━━━━━━━━━━━━━━\u001b[0m\u001b[37m\u001b[0m \u001b[1m10s\u001b[0m 136ms/step - loss: 4.1604e-07 - val_loss: 0.0031\n",
      "Epoch 21/100\n",
      "\u001b[1m50/50\u001b[0m \u001b[32m━━━━━━━━━━━━━━━━━━━━\u001b[0m\u001b[37m\u001b[0m \u001b[1m7s\u001b[0m 139ms/step - loss: 2.3772e-07 - val_loss: 0.0034\n",
      "Epoch 22/100\n",
      "\u001b[1m50/50\u001b[0m \u001b[32m━━━━━━━━━━━━━━━━━━━━\u001b[0m\u001b[37m\u001b[0m \u001b[1m7s\u001b[0m 133ms/step - loss: 3.5178e-07 - val_loss: 0.0026\n",
      "Epoch 23/100\n",
      "\u001b[1m50/50\u001b[0m \u001b[32m━━━━━━━━━━━━━━━━━━━━\u001b[0m\u001b[37m\u001b[0m \u001b[1m7s\u001b[0m 132ms/step - loss: 6.2902e-07 - val_loss: 0.0026\n",
      "Epoch 24/100\n",
      "\u001b[1m50/50\u001b[0m \u001b[32m━━━━━━━━━━━━━━━━━━━━\u001b[0m\u001b[37m\u001b[0m \u001b[1m7s\u001b[0m 137ms/step - loss: 3.7310e-07 - val_loss: 0.0029\n",
      "Epoch 25/100\n",
      "\u001b[1m50/50\u001b[0m \u001b[32m━━━━━━━━━━━━━━━━━━━━\u001b[0m\u001b[37m\u001b[0m \u001b[1m10s\u001b[0m 133ms/step - loss: 3.5264e-07 - val_loss: 0.0027\n",
      "Epoch 26/100\n",
      "\u001b[1m50/50\u001b[0m \u001b[32m━━━━━━━━━━━━━━━━━━━━\u001b[0m\u001b[37m\u001b[0m \u001b[1m8s\u001b[0m 150ms/step - loss: 3.0918e-07 - val_loss: 0.0022\n",
      "Epoch 27/100\n",
      "\u001b[1m50/50\u001b[0m \u001b[32m━━━━━━━━━━━━━━━━━━━━\u001b[0m\u001b[37m\u001b[0m \u001b[1m16s\u001b[0m 324ms/step - loss: 4.7064e-07 - val_loss: 0.0029\n",
      "Epoch 28/100\n",
      "\u001b[1m50/50\u001b[0m \u001b[32m━━━━━━━━━━━━━━━━━━━━\u001b[0m\u001b[37m\u001b[0m \u001b[1m16s\u001b[0m 312ms/step - loss: 4.2145e-07 - val_loss: 0.0038\n",
      "Epoch 29/100\n",
      "\u001b[1m50/50\u001b[0m \u001b[32m━━━━━━━━━━━━━━━━━━━━\u001b[0m\u001b[37m\u001b[0m \u001b[1m22s\u001b[0m 342ms/step - loss: 4.1188e-07 - val_loss: 0.0025\n",
      "Epoch 30/100\n",
      "\u001b[1m50/50\u001b[0m \u001b[32m━━━━━━━━━━━━━━━━━━━━\u001b[0m\u001b[37m\u001b[0m \u001b[1m20s\u001b[0m 329ms/step - loss: 3.3348e-07 - val_loss: 0.0033\n",
      "Epoch 31/100\n",
      "\u001b[1m50/50\u001b[0m \u001b[32m━━━━━━━━━━━━━━━━━━━━\u001b[0m\u001b[37m\u001b[0m \u001b[1m15s\u001b[0m 297ms/step - loss: 4.6483e-07 - val_loss: 0.0029\n",
      "Epoch 32/100\n",
      "\u001b[1m50/50\u001b[0m \u001b[32m━━━━━━━━━━━━━━━━━━━━\u001b[0m\u001b[37m\u001b[0m \u001b[1m12s\u001b[0m 125ms/step - loss: 2.1242e-07 - val_loss: 0.0028\n",
      "Epoch 33/100\n",
      "\u001b[1m50/50\u001b[0m \u001b[32m━━━━━━━━━━━━━━━━━━━━\u001b[0m\u001b[37m\u001b[0m \u001b[1m6s\u001b[0m 126ms/step - loss: 3.1035e-07 - val_loss: 0.0028\n",
      "Epoch 34/100\n",
      "\u001b[1m50/50\u001b[0m \u001b[32m━━━━━━━━━━━━━━━━━━━━\u001b[0m\u001b[37m\u001b[0m \u001b[1m6s\u001b[0m 122ms/step - loss: 2.5729e-07 - val_loss: 0.0028\n",
      "Epoch 35/100\n",
      "\u001b[1m50/50\u001b[0m \u001b[32m━━━━━━━━━━━━━━━━━━━━\u001b[0m\u001b[37m\u001b[0m \u001b[1m6s\u001b[0m 121ms/step - loss: 4.5298e-07 - val_loss: 0.0027\n",
      "Epoch 36/100\n",
      "\u001b[1m50/50\u001b[0m \u001b[32m━━━━━━━━━━━━━━━━━━━━\u001b[0m\u001b[37m\u001b[0m \u001b[1m6s\u001b[0m 122ms/step - loss: 4.8233e-07 - val_loss: 0.0030\n",
      "Epoch 37/100\n",
      "\u001b[1m50/50\u001b[0m \u001b[32m━━━━━━━━━━━━━━━━━━━━\u001b[0m\u001b[37m\u001b[0m \u001b[1m6s\u001b[0m 121ms/step - loss: 2.9525e-07 - val_loss: 0.0025\n",
      "Epoch 38/100\n",
      "\u001b[1m50/50\u001b[0m \u001b[32m━━━━━━━━━━━━━━━━━━━━\u001b[0m\u001b[37m\u001b[0m \u001b[1m6s\u001b[0m 121ms/step - loss: 2.5767e-07 - val_loss: 0.0026\n",
      "Epoch 39/100\n",
      "\u001b[1m50/50\u001b[0m \u001b[32m━━━━━━━━━━━━━━━━━━━━\u001b[0m\u001b[37m\u001b[0m \u001b[1m6s\u001b[0m 123ms/step - loss: 6.2658e-07 - val_loss: 0.0026\n",
      "Epoch 40/100\n",
      "\u001b[1m50/50\u001b[0m \u001b[32m━━━━━━━━━━━━━━━━━━━━\u001b[0m\u001b[37m\u001b[0m \u001b[1m6s\u001b[0m 120ms/step - loss: 3.6595e-07 - val_loss: 0.0031\n",
      "Epoch 41/100\n",
      "\u001b[1m50/50\u001b[0m \u001b[32m━━━━━━━━━━━━━━━━━━━━\u001b[0m\u001b[37m\u001b[0m \u001b[1m6s\u001b[0m 128ms/step - loss: 4.4217e-07 - val_loss: 0.0024\n",
      "Epoch 42/100\n",
      "\u001b[1m50/50\u001b[0m \u001b[32m━━━━━━━━━━━━━━━━━━━━\u001b[0m\u001b[37m\u001b[0m \u001b[1m7s\u001b[0m 133ms/step - loss: 3.4465e-07 - val_loss: 0.0029\n",
      "Epoch 43/100\n",
      "\u001b[1m50/50\u001b[0m \u001b[32m━━━━━━━━━━━━━━━━━━━━\u001b[0m\u001b[37m\u001b[0m \u001b[1m7s\u001b[0m 132ms/step - loss: 3.2894e-07 - val_loss: 0.0021\n",
      "Epoch 44/100\n",
      "\u001b[1m50/50\u001b[0m \u001b[32m━━━━━━━━━━━━━━━━━━━━\u001b[0m\u001b[37m\u001b[0m \u001b[1m7s\u001b[0m 132ms/step - loss: 3.4418e-07 - val_loss: 0.0031\n",
      "Epoch 45/100\n",
      "\u001b[1m50/50\u001b[0m \u001b[32m━━━━━━━━━━━━━━━━━━━━\u001b[0m\u001b[37m\u001b[0m \u001b[1m6s\u001b[0m 128ms/step - loss: 1.9251e-07 - val_loss: 0.0025\n",
      "Epoch 46/100\n",
      "\u001b[1m50/50\u001b[0m \u001b[32m━━━━━━━━━━━━━━━━━━━━\u001b[0m\u001b[37m\u001b[0m \u001b[1m10s\u001b[0m 123ms/step - loss: 2.3941e-07 - val_loss: 0.0029\n",
      "Epoch 47/100\n",
      "\u001b[1m50/50\u001b[0m \u001b[32m━━━━━━━━━━━━━━━━━━━━\u001b[0m\u001b[37m\u001b[0m \u001b[1m6s\u001b[0m 121ms/step - loss: 2.6514e-07 - val_loss: 0.0027\n",
      "Epoch 48/100\n",
      "\u001b[1m50/50\u001b[0m \u001b[32m━━━━━━━━━━━━━━━━━━━━\u001b[0m\u001b[37m\u001b[0m \u001b[1m10s\u001b[0m 121ms/step - loss: 2.3759e-07 - val_loss: 0.0024\n",
      "Epoch 49/100\n",
      "\u001b[1m50/50\u001b[0m \u001b[32m━━━━━━━━━━━━━━━━━━━━\u001b[0m\u001b[37m\u001b[0m \u001b[1m6s\u001b[0m 121ms/step - loss: 4.4168e-07 - val_loss: 0.0022\n",
      "Epoch 50/100\n",
      "\u001b[1m50/50\u001b[0m \u001b[32m━━━━━━━━━━━━━━━━━━━━\u001b[0m\u001b[37m\u001b[0m \u001b[1m6s\u001b[0m 123ms/step - loss: 2.5137e-07 - val_loss: 0.0026\n",
      "Epoch 51/100\n",
      "\u001b[1m50/50\u001b[0m \u001b[32m━━━━━━━━━━━━━━━━━━━━\u001b[0m\u001b[37m\u001b[0m \u001b[1m6s\u001b[0m 123ms/step - loss: 4.8938e-07 - val_loss: 0.0035\n",
      "Epoch 52/100\n",
      "\u001b[1m50/50\u001b[0m \u001b[32m━━━━━━━━━━━━━━━━━━━━\u001b[0m\u001b[37m\u001b[0m \u001b[1m6s\u001b[0m 126ms/step - loss: 3.1968e-07 - val_loss: 0.0030\n",
      "Epoch 53/100\n",
      "\u001b[1m50/50\u001b[0m \u001b[32m━━━━━━━━━━━━━━━━━━━━\u001b[0m\u001b[37m\u001b[0m \u001b[1m7s\u001b[0m 130ms/step - loss: 3.1483e-07 - val_loss: 0.0023\n",
      "Epoch 54/100\n",
      "\u001b[1m50/50\u001b[0m \u001b[32m━━━━━━━━━━━━━━━━━━━━\u001b[0m\u001b[37m\u001b[0m \u001b[1m7s\u001b[0m 131ms/step - loss: 1.9962e-07 - val_loss: 0.0023\n",
      "Epoch 55/100\n",
      "\u001b[1m50/50\u001b[0m \u001b[32m━━━━━━━━━━━━━━━━━━━━\u001b[0m\u001b[37m\u001b[0m \u001b[1m6s\u001b[0m 128ms/step - loss: 2.1142e-07 - val_loss: 0.0030\n",
      "Epoch 56/100\n",
      "\u001b[1m50/50\u001b[0m \u001b[32m━━━━━━━━━━━━━━━━━━━━\u001b[0m\u001b[37m\u001b[0m \u001b[1m7s\u001b[0m 130ms/step - loss: 2.5888e-07 - val_loss: 0.0026\n",
      "Epoch 57/100\n",
      "\u001b[1m50/50\u001b[0m \u001b[32m━━━━━━━━━━━━━━━━━━━━\u001b[0m\u001b[37m\u001b[0m \u001b[1m7s\u001b[0m 139ms/step - loss: 4.2191e-07 - val_loss: 0.0023\n",
      "Epoch 58/100\n",
      "\u001b[1m50/50\u001b[0m \u001b[32m━━━━━━━━━━━━━━━━━━━━\u001b[0m\u001b[37m\u001b[0m \u001b[1m7s\u001b[0m 130ms/step - loss: 3.9332e-07 - val_loss: 0.0028\n",
      "Epoch 59/100\n",
      "\u001b[1m50/50\u001b[0m \u001b[32m━━━━━━━━━━━━━━━━━━━━\u001b[0m\u001b[37m\u001b[0m \u001b[1m6s\u001b[0m 129ms/step - loss: 2.2408e-07 - val_loss: 0.0024\n",
      "Epoch 60/100\n",
      "\u001b[1m50/50\u001b[0m \u001b[32m━━━━━━━━━━━━━━━━━━━━\u001b[0m\u001b[37m\u001b[0m \u001b[1m6s\u001b[0m 127ms/step - loss: 6.0218e-07 - val_loss: 0.0021\n",
      "Epoch 61/100\n",
      "\u001b[1m50/50\u001b[0m \u001b[32m━━━━━━━━━━━━━━━━━━━━\u001b[0m\u001b[37m\u001b[0m \u001b[1m7s\u001b[0m 130ms/step - loss: 2.3365e-07 - val_loss: 0.0026\n",
      "Epoch 62/100\n",
      "\u001b[1m50/50\u001b[0m \u001b[32m━━━━━━━━━━━━━━━━━━━━\u001b[0m\u001b[37m\u001b[0m \u001b[1m7s\u001b[0m 138ms/step - loss: 2.5922e-07 - val_loss: 0.0027\n",
      "Epoch 63/100\n",
      "\u001b[1m50/50\u001b[0m \u001b[32m━━━━━━━━━━━━━━━━━━━━\u001b[0m\u001b[37m\u001b[0m \u001b[1m6s\u001b[0m 130ms/step - loss: 4.7284e-07 - val_loss: 0.0024\n",
      "Epoch 64/100\n",
      "\u001b[1m50/50\u001b[0m \u001b[32m━━━━━━━━━━━━━━━━━━━━\u001b[0m\u001b[37m\u001b[0m \u001b[1m10s\u001b[0m 124ms/step - loss: 5.4051e-07 - val_loss: 0.0034\n",
      "Epoch 65/100\n",
      "\u001b[1m50/50\u001b[0m \u001b[32m━━━━━━━━━━━━━━━━━━━━\u001b[0m\u001b[37m\u001b[0m \u001b[1m6s\u001b[0m 120ms/step - loss: 1.8689e-07 - val_loss: 0.0023\n",
      "Epoch 66/100\n",
      "\u001b[1m50/50\u001b[0m \u001b[32m━━━━━━━━━━━━━━━━━━━━\u001b[0m\u001b[37m\u001b[0m \u001b[1m6s\u001b[0m 122ms/step - loss: 2.6711e-07 - val_loss: 0.0024\n",
      "Epoch 67/100\n",
      "\u001b[1m50/50\u001b[0m \u001b[32m━━━━━━━━━━━━━━━━━━━━\u001b[0m\u001b[37m\u001b[0m \u001b[1m6s\u001b[0m 127ms/step - loss: 2.2537e-07 - val_loss: 0.0022\n",
      "Epoch 68/100\n",
      "\u001b[1m50/50\u001b[0m \u001b[32m━━━━━━━━━━━━━━━━━━━━\u001b[0m\u001b[37m\u001b[0m \u001b[1m6s\u001b[0m 124ms/step - loss: 2.0361e-07 - val_loss: 0.0026\n",
      "Epoch 69/100\n",
      "\u001b[1m50/50\u001b[0m \u001b[32m━━━━━━━━━━━━━━━━━━━━\u001b[0m\u001b[37m\u001b[0m \u001b[1m7s\u001b[0m 130ms/step - loss: 2.6963e-07 - val_loss: 0.0025\n",
      "Epoch 70/100\n",
      "\u001b[1m50/50\u001b[0m \u001b[32m━━━━━━━━━━━━━━━━━━━━\u001b[0m\u001b[37m\u001b[0m \u001b[1m10s\u001b[0m 124ms/step - loss: 2.8512e-07 - val_loss: 0.0027\n",
      "Epoch 71/100\n",
      "\u001b[1m50/50\u001b[0m \u001b[32m━━━━━━━━━━━━━━━━━━━━\u001b[0m\u001b[37m\u001b[0m \u001b[1m6s\u001b[0m 121ms/step - loss: 1.7016e-07 - val_loss: 0.0026\n",
      "Epoch 72/100\n",
      "\u001b[1m50/50\u001b[0m \u001b[32m━━━━━━━━━━━━━━━━━━━━\u001b[0m\u001b[37m\u001b[0m \u001b[1m6s\u001b[0m 123ms/step - loss: 3.1143e-07 - val_loss: 0.0025\n",
      "Epoch 73/100\n",
      "\u001b[1m50/50\u001b[0m \u001b[32m━━━━━━━━━━━━━━━━━━━━\u001b[0m\u001b[37m\u001b[0m \u001b[1m6s\u001b[0m 125ms/step - loss: 3.4375e-07 - val_loss: 0.0030\n",
      "Epoch 74/100\n",
      "\u001b[1m50/50\u001b[0m \u001b[32m━━━━━━━━━━━━━━━━━━━━\u001b[0m\u001b[37m\u001b[0m \u001b[1m7s\u001b[0m 132ms/step - loss: 3.1242e-07 - val_loss: 0.0025\n",
      "Epoch 75/100\n",
      "\u001b[1m50/50\u001b[0m \u001b[32m━━━━━━━━━━━━━━━━━━━━\u001b[0m\u001b[37m\u001b[0m \u001b[1m10s\u001b[0m 131ms/step - loss: 2.7954e-07 - val_loss: 0.0029\n",
      "Epoch 76/100\n",
      "\u001b[1m50/50\u001b[0m \u001b[32m━━━━━━━━━━━━━━━━━━━━\u001b[0m\u001b[37m\u001b[0m \u001b[1m10s\u001b[0m 122ms/step - loss: 1.9625e-07 - val_loss: 0.0030\n",
      "Epoch 77/100\n",
      "\u001b[1m50/50\u001b[0m \u001b[32m━━━━━━━━━━━━━━━━━━━━\u001b[0m\u001b[37m\u001b[0m \u001b[1m6s\u001b[0m 121ms/step - loss: 2.8166e-07 - val_loss: 0.0022\n",
      "Epoch 78/100\n",
      "\u001b[1m50/50\u001b[0m \u001b[32m━━━━━━━━━━━━━━━━━━━━\u001b[0m\u001b[37m\u001b[0m \u001b[1m6s\u001b[0m 120ms/step - loss: 1.5032e-07 - val_loss: 0.0027\n",
      "Epoch 79/100\n",
      "\u001b[1m50/50\u001b[0m \u001b[32m━━━━━━━━━━━━━━━━━━━━\u001b[0m\u001b[37m\u001b[0m \u001b[1m6s\u001b[0m 122ms/step - loss: 1.9259e-07 - val_loss: 0.0026\n",
      "Epoch 80/100\n",
      "\u001b[1m50/50\u001b[0m \u001b[32m━━━━━━━━━━━━━━━━━━━━\u001b[0m\u001b[37m\u001b[0m \u001b[1m6s\u001b[0m 124ms/step - loss: 2.5677e-07 - val_loss: 0.0024\n",
      "Epoch 81/100\n",
      "\u001b[1m50/50\u001b[0m \u001b[32m━━━━━━━━━━━━━━━━━━━━\u001b[0m\u001b[37m\u001b[0m \u001b[1m7s\u001b[0m 133ms/step - loss: 1.9471e-07 - val_loss: 0.0026\n",
      "Epoch 82/100\n",
      "\u001b[1m50/50\u001b[0m \u001b[32m━━━━━━━━━━━━━━━━━━━━\u001b[0m\u001b[37m\u001b[0m \u001b[1m6s\u001b[0m 129ms/step - loss: 1.9004e-07 - val_loss: 0.0029\n",
      "Epoch 83/100\n",
      "\u001b[1m50/50\u001b[0m \u001b[32m━━━━━━━━━━━━━━━━━━━━\u001b[0m\u001b[37m\u001b[0m \u001b[1m7s\u001b[0m 130ms/step - loss: 2.1750e-07 - val_loss: 0.0031\n",
      "Epoch 84/100\n",
      "\u001b[1m50/50\u001b[0m \u001b[32m━━━━━━━━━━━━━━━━━━━━\u001b[0m\u001b[37m\u001b[0m \u001b[1m7s\u001b[0m 134ms/step - loss: 1.9455e-07 - val_loss: 0.0024\n",
      "Epoch 85/100\n",
      "\u001b[1m50/50\u001b[0m \u001b[32m━━━━━━━━━━━━━━━━━━━━\u001b[0m\u001b[37m\u001b[0m \u001b[1m7s\u001b[0m 133ms/step - loss: 2.2420e-07 - val_loss: 0.0028\n",
      "Epoch 86/100\n",
      "\u001b[1m50/50\u001b[0m \u001b[32m━━━━━━━━━━━━━━━━━━━━\u001b[0m\u001b[37m\u001b[0m \u001b[1m6s\u001b[0m 129ms/step - loss: 3.5775e-07 - val_loss: 0.0024\n",
      "Epoch 87/100\n",
      "\u001b[1m50/50\u001b[0m \u001b[32m━━━━━━━━━━━━━━━━━━━━\u001b[0m\u001b[37m\u001b[0m \u001b[1m7s\u001b[0m 130ms/step - loss: 2.3739e-07 - val_loss: 0.0031\n",
      "Epoch 88/100\n",
      "\u001b[1m50/50\u001b[0m \u001b[32m━━━━━━━━━━━━━━━━━━━━\u001b[0m\u001b[37m\u001b[0m \u001b[1m6s\u001b[0m 129ms/step - loss: 2.8264e-07 - val_loss: 0.0025\n",
      "Epoch 89/100\n",
      "\u001b[1m50/50\u001b[0m \u001b[32m━━━━━━━━━━━━━━━━━━━━\u001b[0m\u001b[37m\u001b[0m \u001b[1m6s\u001b[0m 130ms/step - loss: 2.3521e-07 - val_loss: 0.0024\n",
      "Epoch 90/100\n",
      "\u001b[1m50/50\u001b[0m \u001b[32m━━━━━━━━━━━━━━━━━━━━\u001b[0m\u001b[37m\u001b[0m \u001b[1m6s\u001b[0m 128ms/step - loss: 1.8505e-07 - val_loss: 0.0026\n",
      "Epoch 91/100\n",
      "\u001b[1m50/50\u001b[0m \u001b[32m━━━━━━━━━━━━━━━━━━━━\u001b[0m\u001b[37m\u001b[0m \u001b[1m7s\u001b[0m 130ms/step - loss: 2.2703e-07 - val_loss: 0.0021\n",
      "Epoch 92/100\n",
      "\u001b[1m50/50\u001b[0m \u001b[32m━━━━━━━━━━━━━━━━━━━━\u001b[0m\u001b[37m\u001b[0m \u001b[1m7s\u001b[0m 136ms/step - loss: 3.0267e-07 - val_loss: 0.0026\n",
      "Epoch 93/100\n",
      "\u001b[1m50/50\u001b[0m \u001b[32m━━━━━━━━━━━━━━━━━━━━\u001b[0m\u001b[37m\u001b[0m \u001b[1m6s\u001b[0m 130ms/step - loss: 2.0981e-07 - val_loss: 0.0027\n",
      "Epoch 94/100\n",
      "\u001b[1m50/50\u001b[0m \u001b[32m━━━━━━━━━━━━━━━━━━━━\u001b[0m\u001b[37m\u001b[0m \u001b[1m7s\u001b[0m 134ms/step - loss: 2.5293e-07 - val_loss: 0.0026\n",
      "Epoch 95/100\n",
      "\u001b[1m50/50\u001b[0m \u001b[32m━━━━━━━━━━━━━━━━━━━━\u001b[0m\u001b[37m\u001b[0m \u001b[1m6s\u001b[0m 128ms/step - loss: 1.4314e-07 - val_loss: 0.0025\n",
      "Epoch 96/100\n",
      "\u001b[1m50/50\u001b[0m \u001b[32m━━━━━━━━━━━━━━━━━━━━\u001b[0m\u001b[37m\u001b[0m \u001b[1m6s\u001b[0m 130ms/step - loss: 2.3907e-07 - val_loss: 0.0023\n",
      "Epoch 97/100\n",
      "\u001b[1m50/50\u001b[0m \u001b[32m━━━━━━━━━━━━━━━━━━━━\u001b[0m\u001b[37m\u001b[0m \u001b[1m7s\u001b[0m 134ms/step - loss: 2.9268e-07 - val_loss: 0.0026\n",
      "Epoch 98/100\n",
      "\u001b[1m50/50\u001b[0m \u001b[32m━━━━━━━━━━━━━━━━━━━━\u001b[0m\u001b[37m\u001b[0m \u001b[1m6s\u001b[0m 129ms/step - loss: 2.4468e-07 - val_loss: 0.0022\n",
      "Epoch 99/100\n",
      "\u001b[1m50/50\u001b[0m \u001b[32m━━━━━━━━━━━━━━━━━━━━\u001b[0m\u001b[37m\u001b[0m \u001b[1m7s\u001b[0m 133ms/step - loss: 1.9296e-07 - val_loss: 0.0022\n",
      "Epoch 100/100\n",
      "\u001b[1m50/50\u001b[0m \u001b[32m━━━━━━━━━━━━━━━━━━━━\u001b[0m\u001b[37m\u001b[0m \u001b[1m7s\u001b[0m 137ms/step - loss: 1.4773e-07 - val_loss: 0.0025\n"
     ]
    },
    {
     "data": {
      "text/plain": [
       "<keras.src.callbacks.history.History at 0x191776fc190>"
      ]
     },
     "execution_count": 149,
     "metadata": {},
     "output_type": "execute_result"
    }
   ],
   "source": [
    "model.fit(X_train,y_train,validation_data=(X_test,ytest),epochs=100,batch_size=64,verbose=1)"
   ]
  },
  {
   "cell_type": "code",
   "execution_count": 150,
   "metadata": {},
   "outputs": [
    {
     "name": "stdout",
     "output_type": "stream",
     "text": [
      "\u001b[1m99/99\u001b[0m \u001b[32m━━━━━━━━━━━━━━━━━━━━\u001b[0m\u001b[37m\u001b[0m \u001b[1m4s\u001b[0m 31ms/step\n",
      "\u001b[1m52/52\u001b[0m \u001b[32m━━━━━━━━━━━━━━━━━━━━\u001b[0m\u001b[37m\u001b[0m \u001b[1m1s\u001b[0m 25ms/step\n"
     ]
    }
   ],
   "source": [
    "train_predict=model.predict(X_train)\n",
    "test_predict=model.predict(X_test)"
   ]
  },
  {
   "cell_type": "code",
   "execution_count": 151,
   "metadata": {},
   "outputs": [],
   "source": [
    "# Transform back to original form\n",
    "train_predict=scaler.inverse_transform(train_predict)\n",
    "test_predict=scaler.inverse_transform(test_predict)"
   ]
  },
  {
   "cell_type": "code",
   "execution_count": 152,
   "metadata": {},
   "outputs": [
    {
     "data": {
      "text/plain": [
       "1.1211515906207632"
      ]
     },
     "execution_count": 152,
     "metadata": {},
     "output_type": "execute_result"
    }
   ],
   "source": [
    "import math\n",
    "from sklearn.metrics import mean_squared_error\n",
    "math.sqrt(mean_squared_error(y_train,train_predict))"
   ]
  },
  {
   "cell_type": "code",
   "execution_count": 153,
   "metadata": {},
   "outputs": [
    {
     "data": {
      "text/plain": [
       "36.85876647679743"
      ]
     },
     "execution_count": 153,
     "metadata": {},
     "output_type": "execute_result"
    }
   ],
   "source": [
    "#Test Data RMSE\n",
    "math.sqrt(mean_squared_error(ytest,test_predict))"
   ]
  },
  {
   "cell_type": "code",
   "execution_count": 163,
   "metadata": {},
   "outputs": [
    {
     "data": {
      "image/png": "[encoded data removed]",
      "text/plain": [
       "<Figure size 640x480 with 1 Axes>"
      ]
     },
     "metadata": {},
     "output_type": "display_data"
    }
   ],
   "source": [
    "### Plotting \n",
    "# shift train predictions for plotting\n",
    "look_back=100\n",
    "trainPredictPlot = np.empty_like(df1)\n",
    "trainPredictPlot[:, :] = np.nan\n",
    "trainPredictPlot[look_back:len(train_predict)+look_back, :] = train_predict\n",
    "# shift test predictions for plotting\n",
    "testPredictPlot = np.empty_like(df1)\n",
    "testPredictPlot[:, :] = np.nan\n",
    "testPredictPlot[len(train_predict)+(look_back*2)+1:len(df1)-1, :] = test_predict\n",
    "# plot baseline and predictions\n",
    "plt.plot(scaler.inverse_transform(df1))\n",
    "plt.plot(trainPredictPlot)\n",
    "plt.plot(testPredictPlot)\n",
    "plt.show()"
   ]
  },
  {
   "cell_type": "code",
   "execution_count": 158,
   "metadata": {},
   "outputs": [
    {
     "name": "stdout",
     "output_type": "stream",
     "text": [
      "\u001b[1m52/52\u001b[0m \u001b[32m━━━━━━━━━━━━━━━━━━━━\u001b[0m\u001b[37m\u001b[0m \u001b[1m2s\u001b[0m 30ms/step\n"
     ]
    }
   ],
   "source": [
    "# Predict stock prices\n",
    "predicted_prices = model.predict(X_test)\n",
    "predicted_prices = scaler.inverse_transform(predicted_prices)\n"
   ]
  },
  {
   "cell_type": "code",
   "execution_count": 186,
   "metadata": {},
   "outputs": [
    {
     "data": {
      "text/plain": [
       "array([[  5.7427583],\n",
       "       [  5.6889157],\n",
       "       [  5.6494675],\n",
       "       ...,\n",
       "       [109.242905 ],\n",
       "       [109.8619   ],\n",
       "       [110.38406  ]], dtype=float32)"
      ]
     },
     "execution_count": 186,
     "metadata": {},
     "output_type": "execute_result"
    }
   ],
   "source": [
    "predicted_prices"
   ]
  },
  {
   "cell_type": "code",
   "execution_count": 160,
   "metadata": {},
   "outputs": [],
   "source": [
    "# Rescale the original test data for comparison\n",
    "y_test_rescaled = scaler.inverse_transform(ytest.reshape(-1, 1))"
   ]
  },
  {
   "cell_type": "code",
   "execution_count": 188,
   "metadata": {},
   "outputs": [
    {
     "data": {
      "text/plain": [
       "array([[  5.63049984],\n",
       "       [  5.65824986],\n",
       "       [  5.62249994],\n",
       "       ...,\n",
       "       [148.28999329],\n",
       "       [146.27000427],\n",
       "       [146.75999451]])"
      ]
     },
     "execution_count": 188,
     "metadata": {},
     "output_type": "execute_result"
    }
   ],
   "source": [
    "y_test_rescaled"
   ]
  },
  {
   "cell_type": "code",
   "execution_count": 161,
   "metadata": {},
   "outputs": [
    {
     "data": {
      "image/png": "[encoded data removed]",
      "text/plain": [
       "<Figure size 1200x600 with 1 Axes>"
      ]
     },
     "metadata": {},
     "output_type": "display_data"
    }
   ],
   "source": [
    "# Plot the results\n",
    "plt.figure(figsize=(12, 6))\n",
    "plt.plot(data.index[-len(ytest):], y_test_rescaled, label=\"Actual Price\")\n",
    "plt.plot(data.index[-len(ytest):], predicted_prices, label=\"Predicted Price\")\n",
    "plt.title(f\"{stock_ticker} Stock Price Prediction\")\n",
    "plt.xlabel(\"Date\")\n",
    "plt.ylabel(\"Price\")\n",
    "plt.legend()\n",
    "plt.show()\n"
   ]
  },
  {
   "cell_type": "code",
   "execution_count": 192,
   "metadata": {},
   "outputs": [
    {
     "name": "stdout",
     "output_type": "stream",
     "text": [
      "            Date  Actual Price  Predicted Price\n",
      "0     2018-04-27      5.658250         5.742758\n",
      "1     2018-04-30      5.622500         5.688916\n",
      "2     2018-05-01      5.678500         5.649467\n",
      "3     2018-05-02      5.657750         5.623978\n",
      "4     2018-05-03      5.824750         5.613833\n",
      "...          ...           ...              ...\n",
      "1646  2024-11-11    145.259995       108.010391\n",
      "1647  2024-11-12    148.289993       108.620811\n",
      "1648  2024-11-13    146.270004       109.242905\n",
      "1649  2024-11-14    146.759995       109.861900\n",
      "1650  2024-11-15    141.979996       110.384064\n",
      "\n",
      "[1651 rows x 3 columns]\n"
     ]
    }
   ],
   "source": [
    "# Assuming the 'Close' column is the one you're using for predictions\n",
    "# Ensure you're using the same column for actual prices from the original data\n",
    "actual_values = df['Close'].iloc[-len(y_test_rescaled):].values   # Actual 'Close' values for test data\n",
    "\n",
    "# Create DataFrame with actual prices and predicted prices along with the dates\n",
    "plotting_data = pd.DataFrame({\n",
    "    'Date': df.index[-len(y_test_rescaled):],        # Dates corresponding to the test data\n",
    "    'Actual Price': actual_values,                    # Actual 'Close' prices\n",
    "    'Predicted Price': predicted_prices.reshape(-1)   # Predicted prices\n",
    "})\n",
    "\n",
    "# Get the most recent data by selecting the last 'len(y_test_rescaled)' rows\n",
    "recent_data = plotting_data.iloc[-len(y_test_rescaled):]  # Ensure you're selecting the test data part\n",
    "\n",
    "# Show the most recent rows (from the end, showing recent predictions and actual prices with dates)\n",
    "print(recent_data)\n",
    "\n"
   ]
  },
  {
   "cell_type": "code",
   "execution_count": 166,
   "metadata": {},
   "outputs": [],
   "source": [
    "model.save('lstm_stock_model.keras')"
   ]
  },
  {
   "cell_type": "code",
   "execution_count": 164,
   "metadata": {},
   "outputs": [
    {
     "data": {
      "text/plain": [
       "1752"
      ]
     },
     "execution_count": 164,
     "metadata": {},
     "output_type": "execute_result"
    }
   ],
   "source": [
    "len(test_data)"
   ]
  },
  {
   "cell_type": "code",
   "execution_count": 167,
   "metadata": {},
   "outputs": [
    {
     "data": {
      "text/plain": [
       "(1, 1411)"
      ]
     },
     "execution_count": 167,
     "metadata": {},
     "output_type": "execute_result"
    }
   ],
   "source": [
    "x_input=test_data[341:].reshape(1,-1)\n",
    "x_input.shape"
   ]
  },
  {
   "cell_type": "code",
   "execution_count": 168,
   "metadata": {},
   "outputs": [],
   "source": [
    "temp_input=list(x_input)\n",
    "temp_input=temp_input[0].tolist()"
   ]
  },
  {
   "cell_type": "code",
   "execution_count": 169,
   "metadata": {},
   "outputs": [
    {
     "data": {
      "text/plain": [
       "[0.03120366890991262,\n",
       " 0.030946496010747955,\n",
       " 0.03005395382952793,\n",
       " 0.030643938904435404,\n",
       " 0.03048930045801189,\n",
       " 0.030322892767137975,\n",
       " 0.030687643164949673,\n",
       " 0.031057433402662225,\n",
       " 0.031141478824418506,\n",
       " 0.030425427219879127,\n",
       " 0.02894289996375163,\n",
       " 0.029151328762501174,\n",
       " 0.029432033738556594,\n",
       " 0.02934294847689946,\n",
       " 0.029800144029635527,\n",
       " 0.029769888960205278,\n",
       " 0.02923873407752469,\n",
       " 0.028105828081491254,\n",
       " 0.028241977496929895,\n",
       " 0.02761501115404765,\n",
       " 0.027384733431046,\n",
       " 0.02564167177948409,\n",
       " 0.026245104442473067,\n",
       " 0.025831609944246246,\n",
       " 0.025934141190982373,\n",
       " 0.02531894409255053,\n",
       " 0.024515488775990153,\n",
       " 0.02507185568219511,\n",
       " 0.02459112805256829,\n",
       " 0.023770863651656655,\n",
       " 0.023406114856847474,\n",
       " 0.023100196254265168,\n",
       " 0.022597616494381214,\n",
       " 0.0223908692452678,\n",
       " 0.021777350490467064,\n",
       " 0.021494965567778024,\n",
       " 0.023044727558308033,\n",
       " 0.022755618040076985,\n",
       " 0.023175835530843302,\n",
       " 0.023464945049074353,\n",
       " 0.023957440320149063,\n",
       " 0.02434740113848262,\n",
       " 0.02358260543352812,\n",
       " 0.02392886519735243,\n",
       " 0.023320389488457573,\n",
       " 0.023385944276226468,\n",
       " 0.02470542694075231,\n",
       " 0.024745768101994317,\n",
       " 0.024910492640229587,\n",
       " 0.02451716872262377,\n",
       " 0.024668447275780048,\n",
       " 0.02447010456884226,\n",
       " 0.025777821194922727,\n",
       " 0.026445127096044466,\n",
       " 0.026613214733552,\n",
       " 0.02693930391675531,\n",
       " 0.026277039458536936,\n",
       " 0.02636444477356045,\n",
       " 0.0259408673895269,\n",
       " 0.025433242980734547,\n",
       " 0.025450052065085806,\n",
       " 0.025912292266730263,\n",
       " 0.026957792947740183,\n",
       " 0.027181347678202336,\n",
       " 0.027124197432609073,\n",
       " 0.027092262416545203,\n",
       " 0.027534332037568658,\n",
       " 0.027613331207414032,\n",
       " 0.027320860192913236,\n",
       " 0.02780495092181232,\n",
       " 0.02853444851143069,\n",
       " 0.029038708217948267,\n",
       " 0.028151209082634118,\n",
       " 0.0284352771579618,\n",
       " 0.02839325605008617,\n",
       " 0.02849915039609456,\n",
       " 0.027367924346694744,\n",
       " 0.02672919517137215,\n",
       " 0.026102228828489903,\n",
       " 0.02435412573402463,\n",
       " 0.024616340076092664,\n",
       " 0.02487519452489346,\n",
       " 0.02560973516041771,\n",
       " 0.024923940228311094,\n",
       " 0.024465063125938897,\n",
       " 0.025238261770066512,\n",
       " 0.0242331022502986,\n",
       " 0.024014588962739815,\n",
       " 0.025828248447976498,\n",
       " 0.027714182507516543,\n",
       " 0.027225051938716608,\n",
       " 0.02778982178409468,\n",
       " 0.02783184609797534,\n",
       " 0.026312337573873065,\n",
       " 0.026818280433029282,\n",
       " 0.026204763281231058,\n",
       " 0.026107271874395783,\n",
       " 0.02707881643146621,\n",
       " 0.02716453859385108,\n",
       " 0.02660312864174024,\n",
       " 0.02737464733923424,\n",
       " 0.029220245046539816,\n",
       " 0.029037028271314644,\n",
       " 0.029347988316800314,\n",
       " 0.029798464083001908,\n",
       " 0.029991763744033815,\n",
       " 0.029981677652222056,\n",
       " 0.02959003528425237,\n",
       " 0.02929924421638519,\n",
       " 0.02944379977700197,\n",
       " 0.029260583001776797,\n",
       " 0.028749600302719728,\n",
       " 0.02803522864481397,\n",
       " 0.028396615943353406,\n",
       " 0.028008336674655982,\n",
       " 0.028966432040642386,\n",
       " 0.028816833434119726,\n",
       " 0.027878910251756837,\n",
       " 0.028267189520454265,\n",
       " 0.02825542348200889,\n",
       " 0.02809406204304588,\n",
       " 0.029484140938243978,\n",
       " 0.02959507833015825,\n",
       " 0.029991763744033815,\n",
       " 0.028798344403134852,\n",
       " 0.029383286432136443,\n",
       " 0.029773248853472514,\n",
       " 0.030270788773455612,\n",
       " 0.030361553981746364,\n",
       " 0.032015528768648625,\n",
       " 0.031652461523475575,\n",
       " 0.0316659107145596,\n",
       " 0.031027178333231972,\n",
       " 0.031955018629788126,\n",
       " 0.03188778549838813,\n",
       " 0.03180038018336462,\n",
       " 0.03209789424377129,\n",
       " 0.0333888017855005,\n",
       " 0.03376699816839119,\n",
       " 0.033116499748618196,\n",
       " 0.03312994573369719,\n",
       " 0.03279713355795438,\n",
       " 0.033061032655663576,\n",
       " 0.034390598205996145,\n",
       " 0.03424100280547852,\n",
       " 0.03390819062973571,\n",
       " 0.034027530960823095,\n",
       " 0.03393340265326008,\n",
       " 0.034000638990665105,\n",
       " 0.03424100280547852,\n",
       " 0.034066192175431484,\n",
       " 0.03427125787490876,\n",
       " 0.03332997159327362,\n",
       " 0.034689795419041464,\n",
       " 0.03396870076859621,\n",
       " 0.03450489869718268,\n",
       " 0.03433681105967514,\n",
       " 0.034456154596767555,\n",
       " 0.03619081170615383,\n",
       " 0.0354831662467926,\n",
       " 0.035691591839537115,\n",
       " 0.03543946198627833,\n",
       " 0.03418048946061299,\n",
       " 0.03391323367564159,\n",
       " 0.034209064583409624,\n",
       " 0.034094767298228114,\n",
       " 0.03467130318205157,\n",
       " 0.03467130318205157,\n",
       " 0.034975543441002774,\n",
       " 0.03554031328638084,\n",
       " 0.036671539335780656,\n",
       " 0.03665809335070166,\n",
       " 0.036853072958367185,\n",
       " 0.03738086794778053,\n",
       " 0.03758593364725781,\n",
       " 0.03858605012111985,\n",
       " 0.03924327153343234,\n",
       " 0.039150823172502944,\n",
       " 0.03911720500380044,\n",
       " 0.03921301646400209,\n",
       " 0.03882305404266602,\n",
       " 0.03805825833771152,\n",
       " 0.03855915815096186,\n",
       " 0.039334036741723095,\n",
       " 0.038688584573861,\n",
       " 0.03885498905872989,\n",
       " 0.03933739984099535,\n",
       " 0.03941303911757349,\n",
       " 0.039856788685230564,\n",
       " 0.04007530036978684,\n",
       " 0.04136284801824881,\n",
       " 0.04057284028976994,\n",
       " 0.04028540911517,\n",
       " 0.040850182166553096,\n",
       " 0.04090901235877998,\n",
       " 0.040683777681684206,\n",
       " 0.04104852487349088,\n",
       " 0.041510763472132825,\n",
       " 0.041110718164990026,\n",
       " 0.03938278404814324,\n",
       " 0.040688820727590086,\n",
       " 0.040280369275269144,\n",
       " 0.040325750276412005,\n",
       " 0.0387490947127215,\n",
       " 0.039404636178400385,\n",
       " 0.040547625060240546,\n",
       " 0.041157782318771534,\n",
       " 0.04174440429440674,\n",
       " 0.041297294833482434,\n",
       " 0.043210125672188,\n",
       " 0.04403711146263662,\n",
       " 0.04481871625194238,\n",
       " 0.04452288213816932,\n",
       " 0.04771821757943099,\n",
       " 0.04885784656800392,\n",
       " 0.05190526334937655,\n",
       " 0.0508967439363414,\n",
       " 0.0484376290772376,\n",
       " 0.04494309962893564,\n",
       " 0.04305548401975946,\n",
       " 0.043996770301394615,\n",
       " 0.04146706241762358,\n",
       " 0.04440354180708194,\n",
       " 0.04547257456498261,\n",
       " 0.043700939393626584,\n",
       " 0.04683071844411685,\n",
       " 0.04494478278157429,\n",
       " 0.04372615141715096,\n",
       " 0.04026356019091789,\n",
       " 0.04289243942815782,\n",
       " 0.040436687668326275,\n",
       " 0.035367185808972454,\n",
       " 0.03949035834078525,\n",
       " 0.032020571814554505,\n",
       " 0.035528547247935464,\n",
       " 0.03309969066426694,\n",
       " 0.034805775856861614,\n",
       " 0.03359218753834416,\n",
       " 0.03475870849707508,\n",
       " 0.040892203274428725,\n",
       " 0.040293815260348136,\n",
       " 0.04224698726029572,\n",
       " 0.04148891454788072,\n",
       " 0.04365051214057281,\n",
       " 0.04331602001819639,\n",
       " 0.039865191624403676,\n",
       " 0.041949473199889044,\n",
       " 0.04000638729175322,\n",
       " 0.044122836831026524,\n",
       " 0.04254786121396963,\n",
       " 0.04387910991694085,\n",
       " 0.043206762572915745,\n",
       " 0.04436656374511219,\n",
       " 0.04673659013655383,\n",
       " 0.04621383819304636,\n",
       " 0.04854352342324599,\n",
       " 0.048143478116103186,\n",
       " 0.04725765892742266,\n",
       " 0.044309413499518925,\n",
       " 0.047106380374266385,\n",
       " 0.04674667302236057,\n",
       " 0.04768459941072848,\n",
       " 0.04894357193639382,\n",
       " 0.04798211347113515,\n",
       " 0.049175532812034115,\n",
       " 0.04813675512356369,\n",
       " 0.046539927376249665,\n",
       " 0.047970347432689776,\n",
       " 0.04838216198428298,\n",
       " 0.049062912267481204,\n",
       " 0.0502529685091079,\n",
       " 0.051535473111663996,\n",
       " 0.05323651525835279,\n",
       " 0.05146823677425897,\n",
       " 0.05131696142710772,\n",
       " 0.05300119448944526,\n",
       " 0.056095675424599395,\n",
       " 0.05784041541979241,\n",
       " 0.0582118888101436,\n",
       " 0.059317902836019044,\n",
       " 0.05800850626330496,\n",
       " 0.059696096012904716,\n",
       " 0.05762190052923111,\n",
       " 0.05632763630023969,\n",
       " 0.05607046340107502,\n",
       " 0.058682530347958665,\n",
       " 0.05821692865004446,\n",
       " 0.05834467512630998,\n",
       " 0.05796984184269155,\n",
       " 0.05794967607107808,\n",
       " 0.058981727561003984,\n",
       " 0.05820852891687637,\n",
       " 0.059828882329071104,\n",
       " 0.06198544008186234,\n",
       " 0.058149698724649486,\n",
       " 0.059065769776755234,\n",
       " 0.06068780954759364,\n",
       " 0.059980160882227365,\n",
       " 0.06110634709172633,\n",
       " 0.06098532681400533,\n",
       " 0.061276111469862456,\n",
       " 0.06306119583230252,\n",
       " 0.06254517008733956,\n",
       " 0.061102987198459094,\n",
       " 0.0628141090249496,\n",
       " 0.060561743017961724,\n",
       " 0.06086430012427428,\n",
       " 0.06286621943064201,\n",
       " 0.06308304796255965,\n",
       " 0.06363605818150239,\n",
       " 0.06516228328613412,\n",
       " 0.0653807981766954,\n",
       " 0.0676953542691774,\n",
       " 0.06966533535347623,\n",
       " 0.06946531269990483,\n",
       " 0.06659438649521286,\n",
       " 0.0687778362181621,\n",
       " 0.06777099675176056,\n",
       " 0.06714907666078922,\n",
       " 0.06759786606834715,\n",
       " 0.06967710139192161,\n",
       " 0.06845174703495878,\n",
       " 0.06919301386902756,\n",
       " 0.06711545849208671,\n",
       " 0.06755080191456564,\n",
       " 0.06907703343120741,\n",
       " 0.06769199437591016,\n",
       " 0.06937286433897544,\n",
       " 0.07037130407220887,\n",
       " 0.07037634391210973,\n",
       " 0.07303548142478493,\n",
       " 0.07449783649728892,\n",
       " 0.07489452191116448,\n",
       " 0.07522229104100141,\n",
       " 0.07430789993552926,\n",
       " 0.07407593905988898,\n",
       " 0.07195804572771115,\n",
       " 0.07592657981310043,\n",
       " 0.07594506563808029,\n",
       " 0.07675860864945494,\n",
       " 0.08195585698507427,\n",
       " 0.08144319113337856,\n",
       " 0.08062124838883583,\n",
       " 0.08063805426718205,\n",
       " 0.08428554542127893,\n",
       " 0.08453263222863185,\n",
       " 0.08473265488220323,\n",
       " 0.08488729332862675,\n",
       " 0.08391407203092774,\n",
       " 0.08740691832659106,\n",
       " 0.0889314698965992,\n",
       " 0.09193350247082392,\n",
       " 0.09546669313373428,\n",
       " 0.08651773924464329,\n",
       " 0.08387541402232437,\n",
       " 0.07910510296400582,\n",
       " 0.08449733411329571,\n",
       " 0.08178609260693814,\n",
       " 0.08079605901888284,\n",
       " 0.08555459762674597,\n",
       " 0.08635301470640802,\n",
       " 0.08314927311996821,\n",
       " 0.08280637805841867,\n",
       " 0.08096246350375173,\n",
       " 0.0831677653569581,\n",
       " 0.08397794206305546,\n",
       " 0.0805220738293619,\n",
       " 0.08202981310901376,\n",
       " 0.08556468371855773,\n",
       " 0.08664884561417605,\n",
       " 0.08793135021673214,\n",
       " 0.08998033367688138,\n",
       " 0.09054510352225945,\n",
       " 0.08683206238940122,\n",
       " 0.09073336013738549,\n",
       " 0.09136536632016856,\n",
       " 0.09289495773007757,\n",
       " 0.09205284280191131,\n",
       " 0.09154185689684922,\n",
       " 0.09465651001562687,\n",
       " 0.09480610862214954,\n",
       " 0.09377741702549088,\n",
       " 0.0929353020973246,\n",
       " 0.09186962602668615,\n",
       " 0.08976013883968646,\n",
       " 0.090753532321009,\n",
       " 0.08994166925626797,\n",
       " 0.08884070148230343,\n",
       " 0.09038205893065779,\n",
       " 0.08736321406607678,\n",
       " 0.08908106850312185,\n",
       " 0.08390566588574959,\n",
       " 0.08657488949023655,\n",
       " 0.08328038590151102,\n",
       " 0.08359470904626895,\n",
       " 0.08654463121480128,\n",
       " 0.09175364558886599,\n",
       " 0.09421276044796979,\n",
       " 0.09691560222115927,\n",
       " 0.09065435776153506,\n",
       " 0.08486712755701328,\n",
       " 0.08922394091109997,\n",
       " 0.0894844737035319,\n",
       " 0.08841039789972534,\n",
       " 0.08987779922414023,\n",
       " 0.0892525128278916,\n",
       " 0.08929621708840586,\n",
       " 0.08937353951762265,\n",
       " 0.08700351312618101,\n",
       " 0.08735481433290869,\n",
       " 0.08612945997594586,\n",
       " 0.08799186035559264,\n",
       " 0.0881700308789069,\n",
       " 0.0891130003131807,\n",
       " 0.08903568429597397,\n",
       " 0.0900744619844444,\n",
       " 0.08907602225121095,\n",
       " 0.09016691034537379,\n",
       " 0.09049299311656704,\n",
       " 0.08876674535836394,\n",
       " 0.0859479231473543,\n",
       " 0.08622694817677612,\n",
       " 0.08650261331293067,\n",
       " 0.08848940027557574,\n",
       " 0.08883734158903618,\n",
       " 0.08804397076128503,\n",
       " 0.08870791516613705,\n",
       " 0.08824231346822284,\n",
       " 0.08864739861526648,\n",
       " 0.08828433137009344,\n",
       " 0.08647571493076263,\n",
       " 0.08637150053138785,\n",
       " 0.08574117429523838,\n",
       " 0.08603196536310555,\n",
       " 0.08739347234151205,\n",
       " 0.08678331828898608,\n",
       " 0.08717663739758436,\n",
       " 0.08913485244343783,\n",
       " 0.08382162366999835,\n",
       " 0.0887264009911169,\n",
       " 0.08827424527828169,\n",
       " 0.09059216767604095,\n",
       " 0.08967273031865793,\n",
       " 0.08998873341004947,\n",
       " 0.08775989947995234,\n",
       " 0.0854688754643611,\n",
       " 0.0865832956354147,\n",
       " 0.08887263970437231,\n",
       " 0.09224614566894823,\n",
       " 0.09120400167520053,\n",
       " 0.09080563631469135,\n",
       " 0.08933992134892015,\n",
       " 0.08586052103833583,\n",
       " 0.08675641990681804,\n",
       " 0.08634460856122987,\n",
       " 0.0880069926993153,\n",
       " 0.09015682425356204,\n",
       " 0.08998033367688138,\n",
       " 0.0908795988506409,\n",
       " 0.09038709877055866,\n",
       " 0.09608693327807201,\n",
       " 0.09490696312825707,\n",
       " 0.0982754228409221,\n",
       " 0.10154639435275688,\n",
       " 0.09959995175735883,\n",
       " 0.10208091233470971,\n",
       " 0.09922847836700764,\n",
       " 0.09871077267541106,\n",
       " 0.09936631093508493,\n",
       " 0.09552888321922841,\n",
       " 0.0940917401702488,\n",
       " 0.09649201842511566,\n",
       " 0.0884809941303976,\n",
       " 0.09121745407228958,\n",
       " 0.09207301498553483,\n",
       " 0.08914493853524959,\n",
       " 0.0851007683792872,\n",
       " 0.08217941171553643,\n",
       " 0.08279293207333968,\n",
       " 0.0769552714097591,\n",
       " 0.08318793754058162,\n",
       " 0.08283831628048756,\n",
       " 0.08636982058475426,\n",
       " 0.08544534338747035,\n",
       " 0.08769938934109185,\n",
       " 0.08837173989112197,\n",
       " 0.08870791516613705,\n",
       " 0.08454775816034445,\n",
       " 0.08537642710343171,\n",
       " 0.08766577117238933,\n",
       " 0.08688921263499448,\n",
       " 0.0840132401783916,\n",
       " 0.0832887856346791,\n",
       " 0.08533272284291746,\n",
       " 0.08606558353180807,\n",
       " 0.08555123773347874,\n",
       " 0.08875497931991853,\n",
       " 0.09187131238532982,\n",
       " 0.09305296248177837,\n",
       " 0.0922058013017012,\n",
       " 0.09410182626206055,\n",
       " 0.09526835042679649,\n",
       " 0.09582639407363004,\n",
       " 0.10126568937670145,\n",
       " 0.10442908659589423,\n",
       " 0.10172289134144757,\n",
       " 0.10750676806471218,\n",
       " 0.10599566247978304,\n",
       " 0.1022927010267265,\n",
       " 0.10101188278281407,\n",
       " 0.10228430129355841,\n",
       " 0.0988536450833892,\n",
       " 0.10164388896559717,\n",
       " 0.10307430581603226,\n",
       " 0.10242717370153655,\n",
       " 0.10172120498280392,\n",
       " 0.10204393427273997,\n",
       " 0.09992435458191849,\n",
       " 0.09876287666909343,\n",
       " 0.09549862494379315,\n",
       " 0.09621971959423839,\n",
       " 0.0966533830700837,\n",
       " 0.09859815213085817,\n",
       " 0.09492376900660329,\n",
       " 0.09519606783748057,\n",
       " 0.0915132849800576,\n",
       " 0.09088631863717538,\n",
       " 0.0947708105068134,\n",
       " 0.09424973850993955,\n",
       " 0.09324289904353801,\n",
       " 0.09357907431855308,\n",
       " 0.09725513738944157,\n",
       " 0.09980501425083109,\n",
       " 0.10397525734843545,\n",
       " 0.10421561795724384,\n",
       " 0.10456691916397151,\n",
       " 0.10314154215343728,\n",
       " 0.10822784989113733,\n",
       " 0.10836232256594738,\n",
       " 0.11181651085300733,\n",
       " 0.11310405529546427,\n",
       " 0.11719530242922828,\n",
       " 0.11746927479472913,\n",
       " 0.11638007947122002,\n",
       " 0.11571612865435797,\n",
       " 0.1161649180619159,\n",
       " 0.11885600020867004,\n",
       " 0.12015698422419593,\n",
       " 0.11860890698930708,\n",
       " 0.11875513929055245,\n",
       " 0.12444992754615491,\n",
       " 0.12432554737516666,\n",
       " 0.12290353025789967,\n",
       " 0.1259929649411429,\n",
       " 0.12713931692225533,\n",
       " 0.12813607670885516,\n",
       " 0.12696283275758474,\n",
       " 0.1333770357169988,\n",
       " 0.13365774069305425,\n",
       " 0.1334946961014526,\n",
       " 0.13490326082163057,\n",
       " 0.13675221521619832,\n",
       " 0.13817423233346532,\n",
       " 0.1359773366254371,\n",
       " 0.13282402549805608,\n",
       " 0.13381573262073493,\n",
       " 0.13692367236498817,\n",
       " 0.1351587537741616,\n",
       " 0.13241220774045784,\n",
       " 0.12652748292309574,\n",
       " 0.12111339964354872,\n",
       " 0.12527356306135137,\n",
       " 0.12414569049320873,\n",
       " 0.12951102967234063,\n",
       " 0.13074815006774884,\n",
       " 0.13050610951230684,\n",
       " 0.12873111124167855,\n",
       " 0.12815288899921143,\n",
       " 0.13013631606858925,\n",
       " 0.13120535203249498,\n",
       " 0.13010942409843126,\n",
       " 0.13179701384803102,\n",
       " 0.1322340436291536,\n",
       " 0.1353201184191296,\n",
       " 0.13776073462923347,\n",
       " 0.1359386722048237,\n",
       " 0.13546131088047414,\n",
       " 0.13304758664052826,\n",
       " 0.13145411237447144,\n",
       " 0.13283915784177874,\n",
       " 0.13474189617666252,\n",
       " 0.1331417149480913,\n",
       " 0.12983375896227672,\n",
       " 0.1270233493084553,\n",
       " 0.1321197431379671,\n",
       " 0.1389642432679492,\n",
       " 0.1466424585929295,\n",
       " 0.14553307826177675,\n",
       " 0.14835694031268723,\n",
       " 0.14738204548036465,\n",
       " 0.15120097454722123,\n",
       " 0.1515505958073153,\n",
       " 0.1495133847976215,\n",
       " 0.14988989802787353,\n",
       " 0.14958734092156095,\n",
       " 0.152592739801063,\n",
       " 0.1513757915892783,\n",
       " 0.14920410790477445,\n",
       " 0.14811489975724523,\n",
       " 0.1501386711938701,\n",
       " 0.14794681532574272,\n",
       " 0.14855192953836782,\n",
       " 0.14921754747784338,\n",
       " 0.14855192953836782,\n",
       " 0.14625249296558843,\n",
       " 0.14096112273441608,\n",
       " 0.1418553416562647,\n",
       " 0.14652815810174297,\n",
       " 0.15016556316402807,\n",
       " 0.1474694411773731,\n",
       " 0.14463885933992815,\n",
       " 0.13817759222673254,\n",
       " 0.13695392422841338,\n",
       " 0.13829189271791908,\n",
       " 0.13846670975997616,\n",
       " 0.13167599357031,\n",
       " 0.13651017466075632,\n",
       " 0.13818432483728713,\n",
       " 0.14070562978188503,\n",
       " 0.1390650913620467,\n",
       " 0.13815070025657455,\n",
       " 0.13798933561160653,\n",
       " 0.13979122585239281,\n",
       " 0.14521708158239527,\n",
       " 0.14599700001305735,\n",
       " 0.14841745686355778,\n",
       " 0.1488746588283039,\n",
       " 0.14761736624927219,\n",
       " 0.15157748777747326,\n",
       " 0.15180608875984633,\n",
       " 0.15476442348556685,\n",
       " 0.16519253191349803,\n",
       " 0.16340409406980078,\n",
       " 0.1666985976585263,\n",
       " 0.17090749235272396,\n",
       " 0.17265559865319427,\n",
       " 0.17651487208729788,\n",
       " 0.1778394010037346,\n",
       " 0.19937471384420175,\n",
       " 0.19904526476773118,\n",
       " 0.20611836588008636,\n",
       " 0.2051300058266546,\n",
       " 0.1970752772714223,\n",
       " 0.20333483537240285,\n",
       " 0.20333483537240285,\n",
       " 0.20088076676520997,\n",
       " 0.20207754279337112,\n",
       " 0.19574402856845108,\n",
       " 0.21197450595663675,\n",
       " 0.22078227379639329,\n",
       " 0.21386380471845157,\n",
       " 0.21245188010500637,\n",
       " 0.21869126602236338,\n",
       " 0.21081807429572258,\n",
       " 0.22341114662162315,\n",
       " 0.21870470559543234,\n",
       " 0.2103608723309765,\n",
       " 0.21500679680629675,\n",
       " 0.20537205920611673,\n",
       " 0.200961455499704,\n",
       " 0.21703055541890154,\n",
       " 0.21298975798022646,\n",
       " 0.20400718592243297,\n",
       " 0.20204393103667867,\n",
       " 0.18834819816615983,\n",
       " 0.1895315346212521,\n",
       " 0.20379875712368342,\n",
       " 0.18986770348425708,\n",
       " 0.18592775413967952,\n",
       " 0.18537642386737038,\n",
       " 0.19449346859997393,\n",
       " 0.19667859185754677,\n",
       " 0.19829222548320702,\n",
       " 0.20706636874225096,\n",
       " 0.2028776462316768,\n",
       " 0.20071940212024192,\n",
       " 0.19792916465004398,\n",
       " 0.19675254798148623,\n",
       " 0.20152622534508208,\n",
       " 0.1959390177941317,\n",
       " 0.18460322522324274,\n",
       " 0.18846249865734638,\n",
       " 0.18220294055636582,\n",
       " 0.18323163215302454,\n",
       " 0.18603532202031148,\n",
       " 0.18725900284265073,\n",
       " 0.17768476896932117,\n",
       " 0.18015227714958298,\n",
       " 0.17316658455825637,\n",
       " 0.16754575242659342,\n",
       " 0.16138032263317592,\n",
       " 0.15616290852594308,\n",
       " 0.156149456128854,\n",
       " 0.14910324698665686,\n",
       " 0.15211536565269335,\n",
       " 0.14654833028536648,\n",
       " 0.15257256761743948,\n",
       " 0.1636394148387083,\n",
       " 0.16466138664883248,\n",
       " 0.16872236909515118,\n",
       " 0.16002218196004672,\n",
       " 0.1625165949344866,\n",
       " 0.1652665008614576,\n",
       " 0.167821417562748,\n",
       " 0.17855881570754623,\n",
       " 0.17263542646957075,\n",
       " 0.16002890174658116,\n",
       " 0.16216697367439253,\n",
       " 0.17714689109410106,\n",
       " 0.17725445897473302,\n",
       " 0.16378060730005284,\n",
       " 0.15796479876672934,\n",
       " 0.15627047640657507,\n",
       " 0.1495268243706904,\n",
       " 0.15867748085998643,\n",
       " 0.1614273867869574,\n",
       " 0.16296034450214372,\n",
       " 0.15685541843557665,\n",
       " 0.16185096417099093,\n",
       " 0.15844889270163348,\n",
       " 0.15321802619731162,\n",
       " 0.1425680237495218,\n",
       " 0.14365723189705099,\n",
       " 0.15374245167544265,\n",
       " 0.1513488996191203,\n",
       " 0.14759719406564867,\n",
       " 0.14242011150164274,\n",
       " 0.15346678653928805,\n",
       " 0.16370665117611333,\n",
       " 0.16552199381398863,\n",
       " 0.17686449334739193,\n",
       " 0.17875379210920675,\n",
       " 0.17734186749576156,\n",
       " 0.1713579745309356,\n",
       " 0.18827424204222037,\n",
       " 0.18519488703877882,\n",
       " 0.18873816379350095,\n",
       " 0.19167632633559795,\n",
       " 0.1851814474657099,\n",
       " 0.18246515329543136,\n",
       " 0.17860587986132778,\n",
       " 0.1829626996274245,\n",
       " 0.17335484117338237,\n",
       " 0.16310825675002266,\n",
       " 0.16177028826051698,\n",
       " 0.15444841398216522,\n",
       " 0.14636679345677492,\n",
       " 0.14358999555964597,\n",
       " 0.1482897039752822,\n",
       " 0.14193601756673868,\n",
       " 0.14546585474839183,\n",
       " 0.14825609221858976,\n",
       " 0.14344208331176697,\n",
       " 0.13470828441997004,\n",
       " 0.13021699197906325,\n",
       " 0.13281898565815523,\n",
       " 0.12532902694830095,\n",
       " 0.12282117440079209,\n",
       " 0.132012162433315,\n",
       " 0.12370867353610626,\n",
       " 0.1303380250808043,\n",
       " 0.13080193400806484,\n",
       " 0.13572352361953965,\n",
       " 0.125705540178553,\n",
       " 0.12456926787724229,\n",
       " 0.11297127539130795,\n",
       " 0.1173079101497611,\n",
       " 0.11081975106640751,\n",
       " 0.1077605682465895,\n",
       " 0.11805421682373071,\n",
       " 0.11508244252494125,\n",
       " 0.12122098034820078,\n",
       " 0.11289058665681388,\n",
       " 0.11414115944931114,\n",
       " 0.11125006106099564,\n",
       " 0.11262165413121389,\n",
       " 0.10761937578524498,\n",
       " 0.11313935982281045,\n",
       " 0.1190291244800734,\n",
       " 0.12548367180673453,\n",
       " 0.1245491085176389,\n",
       " 0.12218243560745441,\n",
       " 0.13073469767065982,\n",
       " 0.12487182498355481,\n",
       " 0.12531557455121192,\n",
       " 0.12625687045086215,\n",
       " 0.12438774387267088,\n",
       " 0.12035365339651015,\n",
       " 0.11313264003627599,\n",
       " 0.10421057811734298,\n",
       " 0.1054813166814537,\n",
       " 0.11012724115677397,\n",
       " 0.1039012948124859,\n",
       " 0.10577714758922173,\n",
       " 0.11038945389583948,\n",
       " 0.10900442125255229,\n",
       " 0.10809674993361462,\n",
       " 0.11415459902238008,\n",
       " 0.1124266649055333,\n",
       " 0.10646294412433085,\n",
       " 0.10350460939861034,\n",
       " 0.10092952051369644,\n",
       " 0.0966533830700837,\n",
       " 0.09961843758233868,\n",
       " 0.1007345377000259,\n",
       " 0.10562922892933269,\n",
       " 0.1054947626665327,\n",
       " 0.10088245635991493,\n",
       " 0.10041180841008983,\n",
       " 0.10096313227038889,\n",
       " 0.10236161731076514,\n",
       " 0.1049837767614706,\n",
       " 0.10726303473861645,\n",
       " 0.11325366031399699,\n",
       " 0.11873328716029533,\n",
       " 0.12036709296957909,\n",
       " 0.11545223596865883,\n",
       " 0.113468808899281,\n",
       " 0.11016758552402099,\n",
       " 0.11861899949312889,\n",
       " 0.11992334340192203,\n",
       " 0.12112685204063776,\n",
       " 0.12299597861882906,\n",
       " 0.12356746825074161,\n",
       " 0.12603498925502354,\n",
       " 0.12819995315299293,\n",
       " 0.1266804478348957,\n",
       " 0.11863915885273231,\n",
       " 0.11388566649678009,\n",
       " 0.1206831024729807,\n",
       " 0.11964095847923298,\n",
       " 0.12479786885961536,\n",
       " 0.12696955254411918,\n",
       " 0.12594086094746054,\n",
       " 0.1222832837015519,\n",
       " 0.1252281788542035,\n",
       " 0.11901568490700445,\n",
       " 0.11353604523668602,\n",
       " 0.11452439246609765,\n",
       " 0.11480005760225222,\n",
       " 0.11944598207757248,\n",
       " 0.10833207070252215,\n",
       " 0.1052459895005361,\n",
       " 0.10300707589063729,\n",
       " 0.10049249073257384,\n",
       " 0.09271342731349608,\n",
       " 0.09076361841282075,\n",
       " 0.08953994400249154,\n",
       " 0.0912140877670123,\n",
       " 0.09306976836012461,\n",
       " 0.09573899196461157,\n",
       " 0.0965323627923627,\n",
       " 0.08729429778203814,\n",
       " 0.08727413201042468,\n",
       " 0.08593615710890895,\n",
       " 0.08774477354823973,\n",
       " 0.08898189394364794,\n",
       " 0.08759685488835069,\n",
       " 0.08816835093227329,\n",
       " 0.08346191631809251,\n",
       " 0.08315935921177997,\n",
       " 0.08122299629618364,\n",
       " 0.08246684289013637,\n",
       " 0.08463852657464023,\n",
       " 0.08116921235586766,\n",
       " 0.08062460828210305,\n",
       " 0.08313246724162197,\n",
       " 0.0875363447494902,\n",
       " 0.08781872967217923,\n",
       " 0.08728757799550367,\n",
       " 0.08020103089806951,\n",
       " 0.07747129715472204,\n",
       " 0.07690652730934398,\n",
       " 0.07632830506687685,\n",
       " 0.07942110605539736,\n",
       " 0.07449279665738806,\n",
       " 0.07893701212049326,\n",
       " 0.07946817020917887,\n",
       " 0.08003294005455693,\n",
       " 0.08099440172582062,\n",
       " 0.0828231839367649,\n",
       " 0.08371740927062357,\n",
       " 0.08816835093227329,\n",
       " 0.0857142823250804,\n",
       " 0.08759685488835069,\n",
       " 0.09202090457984242,\n",
       " 0.08975509258777556,\n",
       " 0.09006437589263262,\n",
       " 0.08788596600958425,\n",
       " 0.08924410668271347,\n",
       " 0.09418586847781181,\n",
       " 0.09516076972214443,\n",
       " 0.09718454115876932,\n",
       " 0.09163094536451138,\n",
       " 0.10490309443898657,\n",
       " 0.1087825400567137,\n",
       " 0.10856739147142969,\n",
       " 0.11106180444586962,\n",
       " 0.10597885018942675,\n",
       " 0.104412280717548,\n",
       " 0.10261039047676172,\n",
       " 0.1019918302790576,\n",
       " 0.1068394573545829,\n",
       " 0.11007344439243788,\n",
       " 0.10839930703992717,\n",
       " 0.10542080013058314,\n",
       " 0.10415678776501695,\n",
       " 0.1127897385627164,\n",
       " 0.11421511557325063,\n",
       " 0.1124737290593148,\n",
       " 0.11068529121561757,\n",
       " 0.10649656229303336,\n",
       " 0.10739078762689203,\n",
       " 0.11444371655562369,\n",
       " 0.11331416404084743,\n",
       " 0.11690450494935105,\n",
       " 0.12051501804147818,\n",
       " 0.1178390682384467,\n",
       " 0.1129847149643769,\n",
       " 0.11042306565253195,\n",
       " 0.10829172633527512,\n",
       " 0.1071554540339644,\n",
       " 0.10995242411471688,\n",
       " 0.10213974252693661,\n",
       " 0.10124552360508798,\n",
       " 0.09395054770890428,\n",
       " 0.09337905166498169,\n",
       " 0.09719126094530378,\n",
       " 0.09726522348125333,\n",
       " 0.09525489802970745,\n",
       " 0.09817288838818095,\n",
       " 0.09491872916670244,\n",
       " 0.0989124752756161,\n",
       " 0.10408283164107746,\n",
       " 0.10597213040289227,\n",
       " 0.10659068418858632,\n",
       " 0.1100196604521219,\n",
       " 0.11262837391774837,\n",
       " 0.11802732485357273,\n",
       " 0.11584220159599994,\n",
       " 0.11172742238534517,\n",
       " 0.11894844856959944,\n",
       " 0.12805204090511396,\n",
       " 0.12853612201599798,\n",
       " 0.12892608764333907,\n",
       " 0.13214663510812508,\n",
       " 0.1359319524182892,\n",
       " 0.1278436121063644,\n",
       " 0.13036491705096231,\n",
       " 0.1398181306465709,\n",
       " 0.14496830841639868,\n",
       " 0.14087371421338754,\n",
       " 0.14079975808944806,\n",
       " 0.14808800778708725,\n",
       " 0.14830315637237124,\n",
       " 0.14919065550768543,\n",
       " 0.1419830817205202,\n",
       " 0.1454994665050843,\n",
       " 0.15345334696621915,\n",
       " 0.15206158171237738,\n",
       " 0.14693829591270757,\n",
       " 0.1428100771289839,\n",
       " 0.13788176773097457,\n",
       " 0.13854738567045013,\n",
       " 0.1581127110146084,\n",
       " 0.1555712338863869,\n",
       " 0.1570167830805447,\n",
       " 0.15510059234857185,\n",
       " 0.15161783214472033,\n",
       " 0.15575949050151294,\n",
       " 0.15963221633270563,\n",
       " 0.15737313695119332,\n",
       " 0.15558468628347596,\n",
       " 0.16158875143192541,\n",
       " 0.15657976612344218,\n",
       " 0.15341300259897211,\n",
       " 0.15341972238550658,\n",
       " 0.16079538060417434,\n",
       " 0.16190476093532705,\n",
       " 0.17073268813468698,\n",
       " 0.1719698085300952,\n",
       " 0.17314641237463288,\n",
       " 0.17515673141416865,\n",
       " 0.17696535426550952,\n",
       " 0.18182642732611382,\n",
       " 0.1790563492155193,\n",
       " 0.17738893164954309,\n",
       " 0.17657538863816843,\n",
       " 0.18043466207227205,\n",
       " 0.183117331661838,\n",
       " ...]"
      ]
     },
     "execution_count": 169,
     "metadata": {},
     "output_type": "execute_result"
    }
   ],
   "source": [
    "temp_input"
   ]
  },
  {
   "cell_type": "code",
   "execution_count": 174,
   "metadata": {},
   "outputs": [
    {
     "data": {
      "text/plain": [
       "1411"
      ]
     },
     "execution_count": 174,
     "metadata": {},
     "output_type": "execute_result"
    }
   ],
   "source": [
    "len(temp_input)"
   ]
  },
  {
   "cell_type": "code",
   "execution_count": 171,
   "metadata": {},
   "outputs": [
    {
     "name": "stdout",
     "output_type": "stream",
     "text": [
      "(1, 1410)\n"
     ]
    }
   ],
   "source": [
    "print(x_input.shape)\n"
   ]
  },
  {
   "cell_type": "code",
   "execution_count": 181,
   "metadata": {},
   "outputs": [
    {
     "name": "stdout",
     "output_type": "stream",
     "text": [
      "Forecasted prices for the next 30 days:\n",
      "[[35.99940898]\n",
      " [35.93286053]\n",
      " [35.86706118]\n",
      " [35.80199543]\n",
      " [35.73767213]\n",
      " [35.67405583]\n",
      " [35.61115317]\n",
      " [35.54893091]\n",
      " [35.48740013]\n",
      " [35.42654532]\n",
      " [35.36634653]\n",
      " [35.30680377]\n",
      " [35.24789929]\n",
      " [35.18963089]\n",
      " [35.13198526]\n",
      " [35.0749469 ]\n",
      " [35.01852023]\n",
      " [34.96268531]\n",
      " [34.90743106]\n",
      " [34.85277299]\n",
      " [34.79867121]\n",
      " [34.7451235 ]\n",
      " [34.69213872]\n",
      " [34.63969694]\n",
      " [34.58778928]\n",
      " [34.53641796]\n",
      " [34.48556082]\n",
      " [34.43521787]\n",
      " [34.3853913 ]\n",
      " [34.33605897]]\n"
     ]
    }
   ],
   "source": [
    "n_steps = 100  # Number of time steps for prediction\n",
    "forecast_days = 30  # Number of days to predict\n",
    "\n",
    "# Initialize the list to store forecasted values\n",
    "forecast_values = []\n",
    "\n",
    "# Prepare the initial input (last n_steps from temp_input)\n",
    "temp_input_for_forecast = list(temp_input[-n_steps:])  # Use the last `n_steps` values for the forecast\n",
    "\n",
    "# Generate prediction for the next 30 days\n",
    "for i in range(forecast_days):\n",
    "    x_input = np.array(temp_input_for_forecast[-n_steps:])  # Slice the last n_steps elements\n",
    "    x_input = x_input.reshape((1, n_steps, 1))  # Reshape for prediction\n",
    "    yhat = model.predict(x_input, verbose=0)  # Predict the next value\n",
    "    forecast_values.append(yhat[0])  # Append the predicted value to the forecast list\n",
    "    temp_input_for_forecast.extend(yhat[0].tolist())  # Add the predicted value to the input for the next prediction\n",
    "\n",
    "# Rescale forecast values if necessary (if using a scaler)\n",
    "forecast_values_rescaled = scaler.inverse_transform(forecast_values)  # Adjust if you have a scaler\n",
    "\n",
    "# Print the forecasted values for the next 30 days\n",
    "print(\"Forecasted prices for the next 30 days:\")\n",
    "print(forecast_values_rescaled)"
   ]
  }
 ],
 "metadata": {
  "kernelspec": {
   "display_name": "stock_env",
   "language": "python",
   "name": "python3"
  },
  "language_info": {
   "codemirror_mode": {
    "name": "ipython",
    "version": 3
   },
   "file_extension": ".py",
   "mimetype": "text/x-python",
   "name": "python",
   "nbconvert_exporter": "python",
   "pygments_lexer": "ipython3",
   "version": "3.11.10"
  }
 },
 "nbformat": 4,
 "nbformat_minor": 2
}
